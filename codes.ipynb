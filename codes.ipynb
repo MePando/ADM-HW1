{
  "nbformat": 4,
  "nbformat_minor": 0,
  "metadata": {
    "colab": {
      "provenance": [],
      "collapsed_sections": [],
      "toc_visible": true
    },
    "kernelspec": {
      "name": "python3",
      "display_name": "Python 3"
    },
    "language_info": {
      "name": "python"
    }
  },
  "cells": [
    {
      "cell_type": "markdown",
      "source": [
        "# Introduction"
      ],
      "metadata": {
        "id": "XU5gwcR-XJLV"
      }
    },
    {
      "cell_type": "markdown",
      "source": [
        "Say \"Hello, World!\" With Python"
      ],
      "metadata": {
        "id": "9c1MqmVtWHPI"
      }
    },
    {
      "cell_type": "code",
      "execution_count": null,
      "metadata": {
        "id": "vi5CRLN9AGhJ"
      },
      "outputs": [],
      "source": [
        "if __name__ == '__main__':\n",
        "    my_string = \"Hello, World!\"\n",
        "    print(my_string)"
      ]
    },
    {
      "cell_type": "markdown",
      "source": [
        "Python If-Else"
      ],
      "metadata": {
        "id": "zFvf_rRMWQPK"
      }
    },
    {
      "cell_type": "code",
      "source": [
        "#!/bin/python3\n",
        "\n",
        "import math\n",
        "import os\n",
        "import random\n",
        "import re\n",
        "import sys\n",
        "\n",
        "\n",
        "\n",
        "if __name__ == '__main__':\n",
        "    n = int(input().strip())\n",
        "    if n%2==0:\n",
        "        if n>=2 and n<=5:\n",
        "            print(\"Not Weird\")\n",
        "        elif n>=6 and n<=20:\n",
        "            print(\"Weird\")\n",
        "        elif n>20:\n",
        "            print(\"Not Weird\")            \n",
        "    else:\n",
        "        print(\"Weird\")"
      ],
      "metadata": {
        "id": "BvVecPf7AObl"
      },
      "execution_count": null,
      "outputs": []
    },
    {
      "cell_type": "markdown",
      "source": [
        "Arithmetic Operators"
      ],
      "metadata": {
        "id": "fcFAvbxQWW3l"
      }
    },
    {
      "cell_type": "code",
      "source": [
        "if __name__ == '__main__':\n",
        "    a = int(input())\n",
        "    b = int(input())\n",
        "    print(a+b)\n",
        "    print(a-b)\n",
        "    print(a*b)"
      ],
      "metadata": {
        "id": "3K0mTQE6WZoZ"
      },
      "execution_count": null,
      "outputs": []
    },
    {
      "cell_type": "markdown",
      "source": [
        "Python: Division"
      ],
      "metadata": {
        "id": "hTlpbYzpWfXr"
      }
    },
    {
      "cell_type": "code",
      "source": [
        "if __name__ == '__main__':\n",
        "    a = int(input())\n",
        "    b = int(input())\n",
        "    print(a//b)\n",
        "    print(a/b)"
      ],
      "metadata": {
        "id": "EOAuCoNtWi9f"
      },
      "execution_count": null,
      "outputs": []
    },
    {
      "cell_type": "markdown",
      "source": [
        "Loops"
      ],
      "metadata": {
        "id": "B3hvksTLWmy_"
      }
    },
    {
      "cell_type": "code",
      "source": [
        "if __name__ == '__main__':\n",
        "    n = int(input())\n",
        "    for i in range(n):\n",
        "        print(i**2)"
      ],
      "metadata": {
        "id": "giL8XBqHWo74"
      },
      "execution_count": null,
      "outputs": []
    },
    {
      "cell_type": "markdown",
      "source": [
        "Write a function"
      ],
      "metadata": {
        "id": "AwxPB1CXWssm"
      }
    },
    {
      "cell_type": "code",
      "source": [
        "def is_leap(year):\n",
        "    leap = False\n",
        "    \n",
        "    if year%4==0:\n",
        "        leap = True\n",
        "        if year%100==0:\n",
        "            leap = False\n",
        "            if year%400==0:\n",
        "                leap = True\n",
        "    # Write your logic here\n",
        "    \n",
        "    return leap\n",
        "\n",
        "year = int(input())\n",
        "print(is_leap(year))"
      ],
      "metadata": {
        "id": "Ac8GtihXW265"
      },
      "execution_count": null,
      "outputs": []
    },
    {
      "cell_type": "markdown",
      "source": [
        "Print Function"
      ],
      "metadata": {
        "id": "h5uNpY-UXBR7"
      }
    },
    {
      "cell_type": "code",
      "source": [
        "if __name__ == '__main__':\n",
        "    n = int(input())\n",
        "    for i in range(1, n+1):\n",
        "        print(i, end=\"\")"
      ],
      "metadata": {
        "id": "HOy3MkQDW5SY"
      },
      "execution_count": null,
      "outputs": []
    },
    {
      "cell_type": "markdown",
      "source": [
        "# Basic Data Types"
      ],
      "metadata": {
        "id": "RQRcwbRIXL5Z"
      }
    },
    {
      "cell_type": "markdown",
      "source": [
        "List Comprehensions"
      ],
      "metadata": {
        "id": "wT_sDeL-XkAV"
      }
    },
    {
      "cell_type": "code",
      "source": [
        "def condition(array, n):\n",
        "    s = 0\n",
        "    for elem in array:\n",
        "        s += int(elem)\n",
        "    return n!=s\n",
        "\n",
        "if __name__ == '__main__':\n",
        "    x = int(input())\n",
        "    y = int(input())\n",
        "    z = int(input())\n",
        "    n = int(input())\n",
        "    \n",
        "    output = []\n",
        "    \n",
        "    for i in range(x+1):\n",
        "        for j in range(y+1):\n",
        "            for k in range(z+1):\n",
        "                if condition([i, j, k], n):\n",
        "                    output.append([i, j, k])\n",
        "    print(output)"
      ],
      "metadata": {
        "id": "RhyjWN-7XgTz"
      },
      "execution_count": null,
      "outputs": []
    },
    {
      "cell_type": "markdown",
      "source": [
        "Find the Runner-Up Score!"
      ],
      "metadata": {
        "id": "6joC-v1bXqn9"
      }
    },
    {
      "cell_type": "code",
      "source": [
        "if __name__ == '__main__':\n",
        "    n = int(input())\n",
        "    arr = map(int, input().split())\n",
        "    scores = list(set(arr))\n",
        "    scores.sort()\n",
        "    print(scores[-2])"
      ],
      "metadata": {
        "id": "NPLLbrOYXyWI"
      },
      "execution_count": null,
      "outputs": []
    },
    {
      "cell_type": "markdown",
      "source": [
        "Nested Lists"
      ],
      "metadata": {
        "id": "u521_E4dX7GR"
      }
    },
    {
      "cell_type": "code",
      "source": [
        "import math\n",
        "if __name__ == '__main__':\n",
        "    \n",
        "    dictionar = {}\n",
        "    last, second_last = math.inf, math.inf\n",
        "    \n",
        "    for _ in range(int(input())):\n",
        "        name = input()\n",
        "        score = float(input())\n",
        "        \n",
        "        if score < last:\n",
        "            second_last = last\n",
        "            last = score\n",
        "        elif score > last and score < second_last:\n",
        "            second_last = score\n",
        "        \n",
        "        if score not in dictionar:\n",
        "            dictionar[score] = [name]\n",
        "        else:\n",
        "            dictionar[score].append(name)\n",
        "\n",
        "    dictionar[second_last].sort()\n",
        "\n",
        "    for elem in dictionar[second_last]:\n",
        "        print(elem)"
      ],
      "metadata": {
        "id": "pk75NyuzX8fZ"
      },
      "execution_count": null,
      "outputs": []
    },
    {
      "cell_type": "markdown",
      "source": [
        "Finding the percentage"
      ],
      "metadata": {
        "id": "bcJyUdYSX_Gy"
      }
    },
    {
      "cell_type": "code",
      "source": [
        "if __name__ == '__main__':\n",
        "    n = int(input())\n",
        "    student_marks = {}\n",
        "    for _ in range(n):\n",
        "        name, *line = input().split()\n",
        "        scores = list(map(float, line))\n",
        "        student_marks[name] = scores\n",
        "    query_name = input()\n",
        "    \n",
        "    print(f'{(sum(student_marks[query_name])/len(student_marks[query_name])):.2f}')"
      ],
      "metadata": {
        "id": "lDKHVjFqYELx"
      },
      "execution_count": null,
      "outputs": []
    },
    {
      "cell_type": "markdown",
      "source": [
        "Lists"
      ],
      "metadata": {
        "id": "pHZMIZnuYOKy"
      }
    },
    {
      "cell_type": "code",
      "source": [
        "if __name__ == '__main__':\n",
        "    N = int(input())\n",
        "    \n",
        "    lista = []\n",
        "    \n",
        "    for _ in range(N):\n",
        "        command = input().split(\" \")\n",
        "        function = command[0]\n",
        "        \n",
        "        if function == 'insert':\n",
        "            lista.insert(int(command[1]), int(command[2]))\n",
        "        elif function == 'print':\n",
        "            print(lista)\n",
        "        elif function == 'remove':\n",
        "            lista.remove(int(command[1]))\n",
        "        elif function == 'append':\n",
        "            lista.append(int(command[1]))\n",
        "        elif function == 'sort':\n",
        "            lista.sort()\n",
        "        elif function == 'pop':\n",
        "            lista.pop()\n",
        "        elif function == 'reverse':\n",
        "            lista.reverse()"
      ],
      "metadata": {
        "id": "ZZUHMLcNYQIx"
      },
      "execution_count": null,
      "outputs": []
    },
    {
      "cell_type": "markdown",
      "source": [
        "Tuples"
      ],
      "metadata": {
        "id": "svyCJ98iYizn"
      }
    },
    {
      "cell_type": "code",
      "source": [
        "if __name__ == '__main__':\n",
        "    n = int(input())\n",
        "    integer_list = map(int, input().split())\n",
        "    print(hash(tuple(integer_list)))"
      ],
      "metadata": {
        "id": "zI99KpToYky5"
      },
      "execution_count": null,
      "outputs": []
    },
    {
      "cell_type": "markdown",
      "source": [
        "# Strings"
      ],
      "metadata": {
        "id": "HZRClNA-Yx0v"
      }
    },
    {
      "cell_type": "markdown",
      "source": [
        "String Split and Join"
      ],
      "metadata": {
        "id": "LRp2qscdY0-u"
      }
    },
    {
      "cell_type": "code",
      "source": [
        "def split_and_join(line):\n",
        "    # write your code here\n",
        "    line = line.split(\" \")\n",
        "    return \"-\".join(line)\n",
        "\n",
        "if __name__ == '__main__':\n",
        "    line = input()\n",
        "    result = split_and_join(line)\n",
        "    print(result)"
      ],
      "metadata": {
        "id": "8gYYyp40YzUh"
      },
      "execution_count": null,
      "outputs": []
    },
    {
      "cell_type": "markdown",
      "source": [
        "What's Your Name?"
      ],
      "metadata": {
        "id": "kJnAHZUfZBud"
      }
    },
    {
      "cell_type": "code",
      "source": [
        "#\n",
        "# Complete the 'print_full_name' function below.\n",
        "#\n",
        "# The function is expected to return a STRING.\n",
        "# The function accepts following parameters:\n",
        "#  1. STRING first\n",
        "#  2. STRING last\n",
        "#\n",
        "\n",
        "def print_full_name(first, last):\n",
        "    # Write your code here\n",
        "    print(f\"Hello {first} {last}! You just delved into python.\")\n",
        "\n",
        "if __name__ == '__main__':\n",
        "    first_name = input()\n",
        "    last_name = input()\n",
        "    print_full_name(first_name, last_name)"
      ],
      "metadata": {
        "id": "FlyLhpiOZFaS"
      },
      "execution_count": null,
      "outputs": []
    },
    {
      "cell_type": "markdown",
      "source": [
        "Mutations"
      ],
      "metadata": {
        "id": "oRrwIp0-ZKOA"
      }
    },
    {
      "cell_type": "code",
      "source": [
        "def mutate_string(string, position, character):\n",
        "    return string[:position] + character + string[position+1:]\n",
        "\n",
        "if __name__ == '__main__':\n",
        "    s = input()\n",
        "    i, c = input().split()\n",
        "    s_new = mutate_string(s, int(i), c)\n",
        "    print(s_new)"
      ],
      "metadata": {
        "id": "qIRtlRA6ZLnJ"
      },
      "execution_count": null,
      "outputs": []
    },
    {
      "cell_type": "markdown",
      "source": [
        "Find a string"
      ],
      "metadata": {
        "id": "Bx_JWi5ZZQsk"
      }
    },
    {
      "cell_type": "code",
      "source": [
        "def count_substring(string, sub_string):\n",
        "    k = 0\n",
        "    for i in range(len(string)-len(sub_string)+1):\n",
        "        if string[i:i+len(sub_string)] == sub_string:\n",
        "            k += 1        \n",
        "    return k\n",
        "\n",
        "if __name__ == '__main__':\n",
        "    string = input().strip()\n",
        "    sub_string = input().strip()\n",
        "    \n",
        "    count = count_substring(string, sub_string)\n",
        "    print(count)"
      ],
      "metadata": {
        "id": "HTomcS_KZT-R"
      },
      "execution_count": null,
      "outputs": []
    },
    {
      "cell_type": "markdown",
      "source": [
        "String Validators"
      ],
      "metadata": {
        "id": "Ws-n29KyZZ5q"
      }
    },
    {
      "cell_type": "code",
      "source": [
        "if __name__ == '__main__':\n",
        "    s = input()\n",
        "    value = False\n",
        "    for i in range(len(s)):\n",
        "        if s[i].isalnum():\n",
        "            value = True\n",
        "    print(value)\n",
        "    value = False\n",
        "    for i in range(len(s)):\n",
        "        if s[i].isalpha():\n",
        "            value = True\n",
        "    print(value)\n",
        "    value = False\n",
        "    for i in range(len(s)):\n",
        "        if s[i].isdigit():\n",
        "            value = True\n",
        "    print(value)\n",
        "    value = False\n",
        "    for i in range(len(s)):\n",
        "        if s[i].islower():\n",
        "            value = True\n",
        "    print(value)\n",
        "    value = False\n",
        "    for i in range(len(s)):\n",
        "        if s[i].isupper():\n",
        "            value = True\n",
        "    print(value)"
      ],
      "metadata": {
        "id": "pSECMpLnZcpS"
      },
      "execution_count": null,
      "outputs": []
    },
    {
      "cell_type": "markdown",
      "source": [
        "Text Alignment"
      ],
      "metadata": {
        "id": "W5GN3VblZwrw"
      }
    },
    {
      "cell_type": "code",
      "source": [
        "# Enter your code here. Read input from STDIN. Print output to STDOUT\n",
        "\n",
        "width = int(input())\n",
        "l = 'H'\n",
        "\n",
        "for i in range(width):\n",
        "    print((l*i).rjust(width-1)+l+(l*i).ljust(width-1))\n",
        "\n",
        "for i in range(width+1):\n",
        "    print((l*width).center(width*2)+(l*width).center(width*6))\n",
        "\n",
        "for i in range((width+1)//2):\n",
        "    print((l*width*5).center(width*6))    \n",
        "\n",
        "for i in range(width+1):\n",
        "    print((l*width).center(width*2)+(l*width).center(width*6))    \n",
        "\n",
        "for i in range(width):\n",
        "    print(((l*(width-i-1)).rjust(width)+l+(l*(width-i-1)).ljust(width)).rjust(width*6))"
      ],
      "metadata": {
        "id": "wWN8_GiuZzn4"
      },
      "execution_count": null,
      "outputs": []
    },
    {
      "cell_type": "markdown",
      "source": [
        "Text Wrap"
      ],
      "metadata": {
        "id": "Ngjyovu-Z4ow"
      }
    },
    {
      "cell_type": "code",
      "source": [
        "import textwrap\n",
        "\n",
        "def wrap(string, max_width):\n",
        "    return textwrap.fill(string, max_width)\n",
        "\n",
        "if __name__ == '__main__':\n",
        "    string, max_width = input(), int(input())\n",
        "    result = wrap(string, max_width)\n",
        "    print(result)"
      ],
      "metadata": {
        "id": "E6YxgjdSZ7rS"
      },
      "execution_count": null,
      "outputs": []
    },
    {
      "cell_type": "markdown",
      "source": [
        "Designer Door Mat"
      ],
      "metadata": {
        "id": "q__avmAvZ_C2"
      }
    },
    {
      "cell_type": "code",
      "source": [
        "# Enter your code here. Read input from STDIN. Print output to STDOUT\n",
        "size = tuple(map(int, input().split(\" \")))\n",
        "\n",
        "for i in range(1, size[0], 2):\n",
        "    print(('.|.'*i).center(size[1], \"-\"))\n",
        "    \n",
        "print(\"WELCOME\".center(size[1], \"-\"))\n",
        "\n",
        "for i in range(size[0]-2, 0, -2):\n",
        "    print(('.|.'*i).center(size[1], \"-\"))"
      ],
      "metadata": {
        "id": "dRp-oHZ0aNOB"
      },
      "execution_count": null,
      "outputs": []
    },
    {
      "cell_type": "markdown",
      "source": [
        "String Formatting"
      ],
      "metadata": {
        "id": "MhxL-HQ1aQID"
      }
    },
    {
      "cell_type": "code",
      "source": [
        "def print_formatted(number):\n",
        "    # your code goes here\n",
        "    form = len(bin(number)[2:])\n",
        "    for num in range(1, number+1):\n",
        "        decimal = str(num).rjust(form,' ')\n",
        "        octal = (oct(num)[2:]).rjust(form,' ')\n",
        "        hexal = (hex(num)[2:]).upper().rjust(form,' ')\n",
        "        binary = (bin(num)[2:]).rjust(form,' ')\n",
        "        print(f\"{decimal} {octal} {hexal} {binary}\")\n",
        "\n",
        "if __name__ == '__main__':\n",
        "    n = int(input())\n",
        "    print_formatted(n)"
      ],
      "metadata": {
        "id": "jZwcG9lEaTn6"
      },
      "execution_count": null,
      "outputs": []
    },
    {
      "cell_type": "markdown",
      "source": [
        "Alphabet Rangoli"
      ],
      "metadata": {
        "id": "jodYMgH2aWfz"
      }
    },
    {
      "cell_type": "code",
      "source": [
        "def print_rangoli(size):\n",
        "    # your code goes here\n",
        "    alfabeto = \"abcdefghijklmnopqrstuvwxyz\"\n",
        "    lista = []\n",
        "    second = []\n",
        "    \n",
        "    for i in range(size):\n",
        "        word = [i for i in alfabeto[size-i-1:size][::-1]]\n",
        "        out = \"-\".join(word+lista).center((size-1)*4+1,\"-\")\n",
        "        second.append(out)\n",
        "        print(out)\n",
        "        lista = word\n",
        "        lista.reverse()\n",
        "    \n",
        "    for i in range(2, len(second)+1):\n",
        "        print(second[-i])\n",
        "\n",
        "if __name__ == '__main__':\n",
        "    n = int(input())\n",
        "    print_rangoli(n)"
      ],
      "metadata": {
        "id": "rkrRJ4QeaZa5"
      },
      "execution_count": null,
      "outputs": []
    },
    {
      "cell_type": "markdown",
      "source": [
        "sWAP cASE"
      ],
      "metadata": {
        "id": "-M7kvCM0_7VW"
      }
    },
    {
      "cell_type": "code",
      "source": [
        "def swap_case(s):\n",
        "    k = \"\"\n",
        "    for i in range(len(s)):\n",
        "        if s[i].islower():\n",
        "            k += s[i].upper()\n",
        "        elif s[i].isupper():\n",
        "            k += s[i].lower()\n",
        "        else:\n",
        "            k += s[i]\n",
        "    return k\n",
        "if __name__ == '__main__':\n",
        "    s = input()\n",
        "    result = swap_case(s)\n",
        "    print(result)"
      ],
      "metadata": {
        "id": "KsvWqx69_78P"
      },
      "execution_count": null,
      "outputs": []
    },
    {
      "cell_type": "markdown",
      "source": [
        "Capitalize!"
      ],
      "metadata": {
        "id": "sEbFYvGcBE2C"
      }
    },
    {
      "cell_type": "code",
      "source": [
        "#!/bin/python3\n",
        "\n",
        "import math\n",
        "import os\n",
        "import random\n",
        "import re\n",
        "import sys\n",
        "\n",
        "# Complete the solve function below.\n",
        "def solve(s):\n",
        "    for x in s.split():\n",
        "        s = s.replace(x, x.capitalize())\n",
        "    return s\n",
        "\n",
        "if __name__ == '__main__':\n",
        "    fptr = open(os.environ['OUTPUT_PATH'], 'w')\n",
        "\n",
        "    s = input()\n",
        "\n",
        "    result = solve(s)\n",
        "\n",
        "    fptr.write(result + '\\n')\n",
        "\n",
        "    fptr.close()"
      ],
      "metadata": {
        "id": "IEW6tqyGQuSK"
      },
      "execution_count": null,
      "outputs": []
    },
    {
      "cell_type": "markdown",
      "source": [
        "Merge the Tools!"
      ],
      "metadata": {
        "id": "su3b3UQyQ2Lq"
      }
    },
    {
      "cell_type": "code",
      "source": [
        "import textwrap\n",
        "\n",
        "def merge_the_tools(string, k):\n",
        "    # your code goes here\n",
        "    for elem in textwrap.wrap(string, k):\n",
        "        word = \"\"\n",
        "        for i in range(k):\n",
        "            if elem[i] not in word:\n",
        "                word += elem[i]\n",
        "        print(word)\n",
        "\n",
        "if __name__ == '__main__':\n",
        "    string, k = input(), int(input())\n",
        "    merge_the_tools(string, k)"
      ],
      "metadata": {
        "id": "LmICJXE5Q3yA"
      },
      "execution_count": null,
      "outputs": []
    },
    {
      "cell_type": "markdown",
      "source": [
        "The Minion Game"
      ],
      "metadata": {
        "id": "uvKpxiM1NHhK"
      }
    },
    {
      "cell_type": "code",
      "source": [
        "def minion_game(string):\n",
        "    # your code goes here\n",
        "    vocali = 'AEIOU'\n",
        "    kevin_score = 0\n",
        "    stuart_score = 0\n",
        "    for i in range(len(s)):\n",
        "        if s[i] in vocali:\n",
        "            kevin_score += (len(s) - i)\n",
        "        else:\n",
        "            stuart_score += (len(s) - i)\n",
        "    if kevin_score > stuart_score:\n",
        "        print(\"Kevin\", kevin_score)\n",
        "    elif stuart_score > kevin_score:\n",
        "        print(\"Stuart\", stuart_score)\n",
        "    else:\n",
        "        print(\"Draw\")\n",
        "        \n",
        "if __name__ == '__main__':"
      ],
      "metadata": {
        "id": "opG0Ew_iNIF8"
      },
      "execution_count": null,
      "outputs": []
    },
    {
      "cell_type": "markdown",
      "source": [
        "# Sets"
      ],
      "metadata": {
        "id": "heW646FPaqc5"
      }
    },
    {
      "cell_type": "markdown",
      "source": [
        "The Captain's Room"
      ],
      "metadata": {
        "id": "-HYl8aGvat29"
      }
    },
    {
      "cell_type": "code",
      "source": [
        "# Enter your code here. Read input from STDIN. Print output to STDOUT\n",
        "\n",
        "k = int(input())\n",
        "elements = input()\n",
        "elements = elements.split(\" \")\n",
        "frequency = {}\n",
        "\n",
        "for elem in elements:\n",
        "    if elem not in frequency:\n",
        "        frequency[elem] = 1\n",
        "    else:\n",
        "        frequency[elem] += 1\n",
        "        \n",
        "for elem in frequency:\n",
        "    if frequency[elem] == 1:\n",
        "        print(elem)"
      ],
      "metadata": {
        "id": "pFWv4oAfaskK"
      },
      "execution_count": null,
      "outputs": []
    },
    {
      "cell_type": "markdown",
      "source": [
        "Check Strict Superset"
      ],
      "metadata": {
        "id": "k1OVWzmEayop"
      }
    },
    {
      "cell_type": "code",
      "source": [
        "# Enter your code here. Read input from STDIN. Print output to STDOUT\n",
        "\n",
        "def is_superset(one, two):\n",
        "    for elem in two:\n",
        "        if elem not in one:\n",
        "            return False\n",
        "    return True\n",
        "\n",
        "A = input().split(\" \")\n",
        "first = input().split(\" \")\n",
        "second = input().split(\" \")\n",
        "third = input().split(\" \")\n",
        "\n",
        "print(is_superset(A, first) and is_superset(A, second) and is_superset(A, third))"
      ],
      "metadata": {
        "id": "sDCKwHqca07j"
      },
      "execution_count": null,
      "outputs": []
    },
    {
      "cell_type": "markdown",
      "source": [
        "Introduction to Sets"
      ],
      "metadata": {
        "id": "rZe-vdnMs5_j"
      }
    },
    {
      "cell_type": "code",
      "source": [
        "def average(array):\n",
        "    # your code goes here\n",
        "    somma = 0\n",
        "    array = set(array)\n",
        "    for elem in array:\n",
        "        somma += elem\n",
        "    return somma/len(array)\n",
        "\n",
        "if __name__ == '__main__':\n",
        "    n = int(input())\n",
        "    arr = list(map(int, input().split()))\n",
        "    result = average(arr)\n",
        "    print(result)"
      ],
      "metadata": {
        "id": "QmFip8bXtBXS"
      },
      "execution_count": null,
      "outputs": []
    },
    {
      "cell_type": "markdown",
      "source": [
        "Symmetric Difference"
      ],
      "metadata": {
        "id": "RvrfFl6ztC0B"
      }
    },
    {
      "cell_type": "code",
      "source": [
        "# Enter your code here. Read input from STDIN. Print output to STDOUT\n",
        "\n",
        "M = int(input())\n",
        "a = set(map(int, input().split()))\n",
        "N = int(input())\n",
        "b = set(map(int, input().split()))\n",
        "\n",
        "for elem in sorted((b.difference(a)).union(a.difference(b))):\n",
        "    print(elem)"
      ],
      "metadata": {
        "id": "7l8ZhidBtY_W"
      },
      "execution_count": null,
      "outputs": []
    },
    {
      "cell_type": "markdown",
      "source": [
        "Set.add()"
      ],
      "metadata": {
        "id": "rw2kaIQOv4GU"
      }
    },
    {
      "cell_type": "code",
      "source": [
        "# Enter your code here. Read input from STDIN. Print output to STDOUT\n",
        "\n",
        "n = int(input())\n",
        "\n",
        "countries = set()\n",
        "\n",
        "for i in range(n):\n",
        "    countries.add(input())\n",
        "    \n",
        "print(len(countries))"
      ],
      "metadata": {
        "id": "pV7oHO09v5Lp"
      },
      "execution_count": null,
      "outputs": []
    },
    {
      "cell_type": "markdown",
      "source": [
        "Set.discard(), .remove() & .pop()"
      ],
      "metadata": {
        "id": "qClDLr5Rv6ts"
      }
    },
    {
      "cell_type": "code",
      "source": [
        "# Enter your code here. Read input from STDIN. Print output to STDOUT\n",
        "\n",
        "n = int(input())\n",
        "my_set = set(sorted(map(int, input().split()), reverse = True))\n",
        "\n",
        "for i in range(int(input())):\n",
        "    command = input().split(\" \")\n",
        "    if command[0] == 'pop':\n",
        "        my_set.pop()\n",
        "    elif command[0] == 'remove':\n",
        "        if int(command[1]) in my_set:\n",
        "            my_set.remove(int(command[1]))\n",
        "    elif command[0] == 'discard':\n",
        "        my_set.discard(int(command[1]))\n",
        "        \n",
        "print(sum(my_set))"
      ],
      "metadata": {
        "id": "KAT38txfwFZv"
      },
      "execution_count": null,
      "outputs": []
    },
    {
      "cell_type": "markdown",
      "source": [
        "Set.union() Operation"
      ],
      "metadata": {
        "id": "YsEE1XG618gE"
      }
    },
    {
      "cell_type": "code",
      "source": [
        "# Enter your code here. Read input from STDIN. Print output to STDOUT\n",
        "\n",
        "n_1 = int(input())\n",
        "set1 = set(map(int, input().split(\" \")))\n",
        "\n",
        "n_2 = int(input())\n",
        "set2 = set(map(int, input().split(\" \")))\n",
        "\n",
        "print(len(set1.union(set2)))"
      ],
      "metadata": {
        "id": "msTsA5fzxmm4"
      },
      "execution_count": null,
      "outputs": []
    },
    {
      "cell_type": "markdown",
      "source": [
        "Set.intersection() Operation"
      ],
      "metadata": {
        "id": "at0wtXgD24dO"
      }
    },
    {
      "cell_type": "code",
      "source": [
        "# Enter your code here. Read input from STDIN. Print output to STDOUT\n",
        "\n",
        "# Enter your code here. Read input from STDIN. Print output to STDOUT\n",
        "\n",
        "n_1 = int(input())\n",
        "set1 = set(map(int, input().split(\" \")))\n",
        "\n",
        "n_2 = int(input())\n",
        "set2 = set(map(int, input().split(\" \")))\n",
        "\n",
        "print(len(set1.intersection(set2)))"
      ],
      "metadata": {
        "id": "a-8x8C-C23ua"
      },
      "execution_count": null,
      "outputs": []
    },
    {
      "cell_type": "markdown",
      "source": [
        "Set.difference() Operation"
      ],
      "metadata": {
        "id": "HG0KNME43TpL"
      }
    },
    {
      "cell_type": "code",
      "source": [
        "# Enter your code here. Read input from STDIN. Print output to STDOUT\n",
        "\n",
        "n_1 = int(input())\n",
        "set1 = set(map(int, input().split(\" \")))\n",
        "\n",
        "n_2 = int(input())\n",
        "set2 = set(map(int, input().split(\" \")))\n",
        "\n",
        "print(len(set1.difference(set2)))"
      ],
      "metadata": {
        "id": "ZGd33vI-3WP_"
      },
      "execution_count": null,
      "outputs": []
    },
    {
      "cell_type": "markdown",
      "source": [
        "Set.symmetric_difference() Operation"
      ],
      "metadata": {
        "id": "UGs12wvl4i1N"
      }
    },
    {
      "cell_type": "code",
      "source": [
        "# Enter your code here. Read input from STDIN. Print output to STDOUT\n",
        "\n",
        "n_1 = int(input())\n",
        "set1 = set(map(int, input().split(\" \")))\n",
        "\n",
        "n_2 = int(input())\n",
        "set2 = set(map(int, input().split(\" \")))\n",
        "\n",
        "print(len(set1.symmetric_difference(set2)))"
      ],
      "metadata": {
        "id": "NN4_ofGe4hzK"
      },
      "execution_count": null,
      "outputs": []
    },
    {
      "cell_type": "markdown",
      "source": [
        "Set Mutations"
      ],
      "metadata": {
        "id": "DnWRrV2s6kap"
      }
    },
    {
      "cell_type": "code",
      "source": [
        "# Enter your code here. Read input from STDIN. Print output to STDOUT\n",
        "\n",
        "n = int(input())\n",
        "s = set(map(int, input().split(\" \")))\n",
        "\n",
        "for i in range(int(input())):\n",
        "    command = input().split(\" \")\n",
        "    if command[0] == \"intersection_update\":\n",
        "        s.intersection_update(set(map(int, input().split(\" \"))))\n",
        "    elif command[0] == \"update\":\n",
        "        s.update(set(map(int, input().split(\" \"))))\n",
        "    elif command[0] == \"difference_update\":\n",
        "        s.difference_update(set(map(int, input().split(\" \"))))\n",
        "    elif command[0] == \"symmetric_difference_update\":\n",
        "        s.symmetric_difference_update(set(map(int, input().split(\" \"))))\n",
        "print(sum(s))"
      ],
      "metadata": {
        "id": "cO5F1j1a6mZs"
      },
      "execution_count": null,
      "outputs": []
    },
    {
      "cell_type": "markdown",
      "source": [
        "No idea!"
      ],
      "metadata": {
        "id": "WaEq1efW8ZwC"
      }
    },
    {
      "cell_type": "code",
      "source": [
        "# Enter your code here. Read input from STDIN. Print output to STDOUT\n",
        "\n",
        "dimensions = list(map(int, input().split(\" \")))\n",
        "\n",
        "array = list(map(int, input().split(\" \")))\n",
        "A = set(map(int, input().split(\" \")))\n",
        "B = set(map(int, input().split(\" \")))\n",
        "\n",
        "happines = 0\n",
        "\n",
        "for elem in array:\n",
        "    if elem in A:\n",
        "        happines += 1\n",
        "    if elem in B:\n",
        "        happines -= 1\n",
        "        \n",
        "print(happines)"
      ],
      "metadata": {
        "id": "cVIj7c6V8bKd"
      },
      "execution_count": null,
      "outputs": []
    },
    {
      "cell_type": "markdown",
      "source": [
        "Check Subset"
      ],
      "metadata": {
        "id": "yM7PxQW0_33j"
      }
    },
    {
      "cell_type": "code",
      "source": [
        "# Enter your code here. Read input from STDIN. Print output to STDOUT\n",
        "\n",
        "cases = int(input())\n",
        "\n",
        "for case in range(cases):\n",
        "    a = int(input())\n",
        "    A = set(map(int, input().split(\" \")))\n",
        "    b = int(input())\n",
        "    B = set(map(int, input().split(\" \")))\n",
        "    done = False\n",
        "    for elem in A:\n",
        "        if elem not in B:\n",
        "            done = True\n",
        "            print(False)\n",
        "            break\n",
        "    if done == False:\n",
        "        print(True)\n",
        "    done = False"
      ],
      "metadata": {
        "id": "Vgqz4Wd4_6de"
      },
      "execution_count": null,
      "outputs": []
    },
    {
      "cell_type": "markdown",
      "source": [
        "# Math"
      ],
      "metadata": {
        "id": "a6Wn4_cHA6kB"
      }
    },
    {
      "cell_type": "markdown",
      "source": [
        "Polar Cooordinates"
      ],
      "metadata": {
        "id": "OET51gGpBHst"
      }
    },
    {
      "cell_type": "code",
      "source": [
        "# Enter your code here. Read input from STDIN. Print output to STDOUT\n",
        "import cmath\n",
        "\n",
        "number = complex(input())\n",
        "\n",
        "print(abs(number))\n",
        "print(cmath.phase(number))"
      ],
      "metadata": {
        "id": "nT6BKZN-A_Zs"
      },
      "execution_count": null,
      "outputs": []
    },
    {
      "cell_type": "markdown",
      "source": [
        "Find Angle MBC"
      ],
      "metadata": {
        "id": "xNA_v9ZfXXcj"
      }
    },
    {
      "cell_type": "code",
      "source": [
        "# Enter your code here. Read input from STDIN. Print output to STDOUT\n",
        "\n",
        "import math\n",
        "\n",
        "ab = int(input())\n",
        "bc = int(input())\n",
        "\n",
        "ac=math.hypot(ab,bc)\n",
        "mc=ac/2\n",
        "bca=math.asin(ab/ac)\n",
        "bm=math.sqrt(bc**2+mc**2-2*bc*mc*math.cos(bca))\n",
        "mbc=math.asin(math.sin(bca)*mc/bm)\n",
        "\n",
        "print(int(round(math.degrees(mbc))), '\\u00b0', sep=\"\")"
      ],
      "metadata": {
        "id": "Jv2gkzShXaHo"
      },
      "execution_count": null,
      "outputs": []
    },
    {
      "cell_type": "markdown",
      "source": [
        "Mod Divmod"
      ],
      "metadata": {
        "id": "y9my5AV9ZleT"
      }
    },
    {
      "cell_type": "code",
      "source": [
        "# Enter your code here. Read input from STDIN. Print output to STDOUT\n",
        "\n",
        "tupla = divmod(int(input()), int(input()))\n",
        "\n",
        "print(tupla[0])\n",
        "print(tupla[1])\n",
        "print(tupla)"
      ],
      "metadata": {
        "id": "_ZjGhnPxacrm"
      },
      "execution_count": null,
      "outputs": []
    },
    {
      "cell_type": "markdown",
      "source": [
        "Triangle Quest"
      ],
      "metadata": {
        "id": "o1Y7mtU3mw_I"
      }
    },
    {
      "cell_type": "code",
      "source": [
        "for i in range(1, int(input())):\n",
        "    print((10**i//9)*i)"
      ],
      "metadata": {
        "id": "vOEnT9MDmzYQ"
      },
      "execution_count": null,
      "outputs": []
    },
    {
      "cell_type": "markdown",
      "source": [
        "Triangle Quest 2"
      ],
      "metadata": {
        "id": "lzLM2Qq1koz4"
      }
    },
    {
      "cell_type": "code",
      "source": [
        "for i in range(1, int(input())+1):\n",
        "    print(((10**i)//9)**2)"
      ],
      "metadata": {
        "id": "I0VDGkV8krIK"
      },
      "execution_count": null,
      "outputs": []
    },
    {
      "cell_type": "markdown",
      "source": [
        "Integers Come In All Sizes"
      ],
      "metadata": {
        "id": "M7nYvhy4nfdO"
      }
    },
    {
      "cell_type": "code",
      "source": [
        "# Enter your code here. Read input from STDIN. Print output to STDOUT\n",
        "a = int(input())\n",
        "b = int(input())\n",
        "c = int(input())\n",
        "d = int(input())\n",
        "\n",
        "print(a**b+c**d)"
      ],
      "metadata": {
        "id": "zUV34yXRnjRi"
      },
      "execution_count": null,
      "outputs": []
    },
    {
      "cell_type": "markdown",
      "source": [
        "Power - Mod Power"
      ],
      "metadata": {
        "id": "svZXAg4uoFll"
      }
    },
    {
      "cell_type": "code",
      "source": [
        "# Enter your code here. Read input from STDIN. Print output to STDOUT\n",
        "\n",
        "a = int(input())\n",
        "b = int(input())\n",
        "m = int(input())\n",
        "\n",
        "print(a**b)\n",
        "print(pow(a, b, m))"
      ],
      "metadata": {
        "id": "O2mWW2wqoH7w"
      },
      "execution_count": null,
      "outputs": []
    },
    {
      "cell_type": "markdown",
      "source": [
        "# Itertools"
      ],
      "metadata": {
        "id": "jBcR7DgfFfsq"
      }
    },
    {
      "cell_type": "markdown",
      "source": [
        "itertools.product()"
      ],
      "metadata": {
        "id": "TgilySmNFisI"
      }
    },
    {
      "cell_type": "code",
      "source": [
        "# Enter your code here. Read input from STDIN. Print output to STDOUT\n",
        "from itertools import product\n",
        "\n",
        "A = list(map(int, input().split(\" \")))\n",
        "B = list(map(int, input().split(\" \")))\n",
        "\n",
        "prod = iter(product(A, B))\n",
        "\n",
        "for elem in prod:\n",
        "    print(elem, end=\" \")"
      ],
      "metadata": {
        "id": "fD9ug7-nFg-O"
      },
      "execution_count": null,
      "outputs": []
    },
    {
      "cell_type": "markdown",
      "source": [
        "itertools.permutations()"
      ],
      "metadata": {
        "id": "BLq1yLCbdruk"
      }
    },
    {
      "cell_type": "code",
      "source": [
        "# Enter your code here. Read input from STDIN. Print output to STDOUT\n",
        "\n",
        "from itertools import permutations\n",
        "\n",
        "inp = input().split(\" \")\n",
        "\n",
        "for elem in iter(permutations(sorted(inp[0]), int(inp[1]))):\n",
        "    stringa = \"\"\n",
        "    for i in elem:\n",
        "        stringa += i\n",
        "    print(stringa)"
      ],
      "metadata": {
        "id": "cl9VBNgAduHE"
      },
      "execution_count": null,
      "outputs": []
    },
    {
      "cell_type": "markdown",
      "source": [
        "itertools.combinations()"
      ],
      "metadata": {
        "id": "1zpX6yzCd869"
      }
    },
    {
      "cell_type": "code",
      "source": [
        "# Enter your code here. Read input from STDIN. Print output to STDOUT\n",
        "\n",
        "from itertools import combinations\n",
        "\n",
        "inp = input().split(\" \")\n",
        "\n",
        "for i in range(int(inp[1])):\n",
        "    for elem in iter(combinations(sorted(inp[0]), i+1)):\n",
        "        stringa = \"\"\n",
        "        for sub in elem:\n",
        "            stringa += sub\n",
        "        print(stringa)"
      ],
      "metadata": {
        "id": "TVtp0W_bd9eL"
      },
      "execution_count": null,
      "outputs": []
    },
    {
      "cell_type": "markdown",
      "source": [
        "itertools.combinations_with_replacement()"
      ],
      "metadata": {
        "id": "vHaZDOyQf_ad"
      }
    },
    {
      "cell_type": "code",
      "source": [
        "# Enter your code here. Read input from STDIN. Print output to STDOUT\n",
        "\n",
        "from itertools import combinations_with_replacement\n",
        "\n",
        "inp = input().split(\" \")\n",
        "\n",
        "for elem in iter(combinations_with_replacement(sorted(inp[0]), int(inp[1]))):\n",
        "    stringa = \"\"\n",
        "    for sub in elem:\n",
        "        stringa += sub\n",
        "    print(stringa)"
      ],
      "metadata": {
        "id": "ZjJsJ8uJf-xH"
      },
      "execution_count": null,
      "outputs": []
    },
    {
      "cell_type": "markdown",
      "source": [
        "Compress the String!"
      ],
      "metadata": {
        "id": "WeH02lwAjEVx"
      }
    },
    {
      "cell_type": "code",
      "source": [
        "# Enter your code here. Read input from STDIN. Print output to STDOUT\n",
        "\n",
        "from itertools import groupby\n",
        "    \n",
        "for i,j in groupby(map(int,list(input()))):\n",
        "    print(tuple([len(list(j)), i]), end = \" \")"
      ],
      "metadata": {
        "id": "ayckT08rjIR1"
      },
      "execution_count": null,
      "outputs": []
    },
    {
      "cell_type": "markdown",
      "source": [
        "Iterables and Iterators"
      ],
      "metadata": {
        "id": "O5GtusHk3TOA"
      }
    },
    {
      "cell_type": "code",
      "source": [
        "# Enter your code here. Read input from STDIN. Print output to STDOUT\n",
        "\n",
        "from itertools import permutations\n",
        "\n",
        "number = int(input())\n",
        "\n",
        "cases, total = 0, 0\n",
        "\n",
        "for elem in iter(permutations(sorted(list(map(str, input().split(\" \")))), int(input()))):\n",
        "    if 'a' in elem:\n",
        "        cases += 1\n",
        "    total += 1\n",
        "print(cases/total)"
      ],
      "metadata": {
        "id": "zs8dbGAW3VbC"
      },
      "execution_count": null,
      "outputs": []
    },
    {
      "cell_type": "markdown",
      "source": [
        "Maximize it!"
      ],
      "metadata": {
        "id": "4FLKjohG3gMX"
      }
    },
    {
      "cell_type": "code",
      "source": [
        "# Enter your code here. Read input from STDIN. Print output to STDOUT\n",
        "\n",
        "from itertools import product\n",
        "\n",
        "n_lists, modulo = map(int, input().split(\" \"))\n",
        "\n",
        "lists = []\n",
        "results = []\n",
        "\n",
        "def square(x: int) -> int:\n",
        "    \"\"\"Function that returns the squared version of the input. f(x) = x^2.\n",
        "    \n",
        "    Args:\n",
        "        -   x (int): The integer to square.\n",
        "    \n",
        "    Returns:\n",
        "        -   int : The squared version of x.\n",
        "    \"\"\"\n",
        "    return x**2\n",
        "\n",
        "for _ in range(n_lists):\n",
        "    lista = list(map(int, input().split(\" \")))\n",
        "    del lista[0]\n",
        "    lists.append(lista)\n",
        "    \n",
        "combinations = list(product(*lists))\n",
        "\n",
        "for i in combinations:\n",
        "    results.append(sum(map(square, [a for a in i]))%modulo)\n",
        "    \n",
        "print(max(results))"
      ],
      "metadata": {
        "id": "QiIW5GF93kag"
      },
      "execution_count": null,
      "outputs": []
    },
    {
      "cell_type": "markdown",
      "source": [
        "# Collections"
      ],
      "metadata": {
        "id": "LKDduVfs-tRL"
      }
    },
    {
      "cell_type": "markdown",
      "source": [
        "collections.Counter()"
      ],
      "metadata": {
        "id": "SiC6PNGR-8Rs"
      }
    },
    {
      "cell_type": "code",
      "source": [
        "# Enter your code here. Read input from STDIN. Print output to STDOUT\n",
        "\n",
        "from collections import Counter\n",
        "\n",
        "n_shoes = int(input())\n",
        "\n",
        "shoes = Counter(map(int, input().split(\" \")))\n",
        "\n",
        "gain = 0\n",
        "\n",
        "for _ in range(int(input())):\n",
        "    shoe, prize = map(int, input().split(\" \"))\n",
        "    if shoe in shoes:\n",
        "        if shoes[shoe] == 0:\n",
        "            pass\n",
        "        else:\n",
        "            shoes[shoe] -= 1\n",
        "            gain += prize\n",
        "            \n",
        "print(gain)"
      ],
      "metadata": {
        "id": "GVHWBDRr-5b4"
      },
      "execution_count": null,
      "outputs": []
    },
    {
      "cell_type": "markdown",
      "source": [
        "DefaultDict Tutorial"
      ],
      "metadata": {
        "id": "zwp2O_K-J7lg"
      }
    },
    {
      "cell_type": "code",
      "source": [
        "# Enter your code here. Read input from STDIN. Print output to STDOUT\n",
        "\n",
        "from collections import defaultdict\n",
        "\n",
        "n, m = map(int, input().split(\" \"))\n",
        "\n",
        "d = defaultdict(list)\n",
        "\n",
        "for i in range(1, n+1):\n",
        "    d[input()].append(i)\n",
        "\n",
        "for i in range(1, m+1):\n",
        "    key = input()\n",
        "    if len(d[key])>0:\n",
        "        print(\" \".join(str(k) for k in d[key]))\n",
        "    else:\n",
        "        print(-1)"
      ],
      "metadata": {
        "id": "oAFSbMA6J5u7"
      },
      "execution_count": null,
      "outputs": []
    },
    {
      "cell_type": "markdown",
      "source": [
        "Collections.namedtuple()"
      ],
      "metadata": {
        "id": "e9q8L_NiL6g1"
      }
    },
    {
      "cell_type": "code",
      "source": [
        "# Enter your code here. Read input from STDIN. Print output to STDOUT\n",
        "\n",
        "from collections import namedtuple\n",
        "n = int(input())\n",
        "Vote = namedtuple('Vote', \" \".join(input().split()))\n",
        "print(sum([int(Vote(*input().split()).MARKS) for _ in range(n)])/n)"
      ],
      "metadata": {
        "id": "ZoM24llkL8Ca"
      },
      "execution_count": null,
      "outputs": []
    },
    {
      "cell_type": "markdown",
      "source": [
        "Collections.OrderedDict()"
      ],
      "metadata": {
        "id": "FcwHSlnYTbnX"
      }
    },
    {
      "cell_type": "code",
      "source": [
        "# Enter your code here. Read input from STDIN. Print output to STDOUT\n",
        "\n",
        "from collections import OrderedDict\n",
        "\n",
        "sold_items = OrderedDict()\n",
        "\n",
        "for _ in range(int(input())):\n",
        "    lista = list(map(str, input().split()))\n",
        "    prize = int(lista[-1])\n",
        "    del lista[-1]\n",
        "    item = \" \".join(lista)\n",
        "    if item in sold_items:\n",
        "        sold_items[item] += prize\n",
        "    else:\n",
        "        sold_items[item] = prize\n",
        "\n",
        "for item in sold_items:\n",
        "    print(item, sold_items[item])"
      ],
      "metadata": {
        "id": "jX5wTFJVTeuA"
      },
      "execution_count": null,
      "outputs": []
    },
    {
      "cell_type": "markdown",
      "source": [
        "Collections.deque()"
      ],
      "metadata": {
        "id": "DMGFG2LKV4rp"
      }
    },
    {
      "cell_type": "code",
      "source": [
        "# Enter your code here. Read input from STDIN. Print output to STDOUT\n",
        "\n",
        "from collections import deque\n",
        "\n",
        "d = deque()\n",
        "\n",
        "for _ in range(int(input())):\n",
        "    command = list(map(str, input().split()))\n",
        "    \n",
        "    if command[0] == \"append\":\n",
        "        d.append(int(command[1]))\n",
        "    elif command[0] == \"remove\":\n",
        "        d.remove(int(command[1]))\n",
        "    elif command[0] == \"pop\":\n",
        "        d.pop()\n",
        "    elif command[0] == \"appendleft\":\n",
        "        d.appendleft(int(command[1]))\n",
        "    elif command[0] == \"clear\":\n",
        "        d.clear()\n",
        "    elif command[0] == \"extend\":\n",
        "        d.extend(int(command[1]))\n",
        "    elif command[0] == \"extendleft\":\n",
        "        d.extendleft(int(command[1]))\n",
        "    elif command[0] == \"rotate\":\n",
        "        d.rotate(int(command[1]))\n",
        "    elif command[0] == \"reverse\":\n",
        "        d.reverse(int(command[1]))\n",
        "    elif command[0] == \"count\":\n",
        "        d.count(int(command[1]))\n",
        "    elif command[0] == \"popleft\":\n",
        "        d.popleft()\n",
        "\n",
        "for elem in d:\n",
        "    print(elem, end=\" \")"
      ],
      "metadata": {
        "id": "XpSe4n1UV6mm"
      },
      "execution_count": null,
      "outputs": []
    },
    {
      "cell_type": "markdown",
      "source": [
        "Word Order"
      ],
      "metadata": {
        "id": "o1XidcV_NXum"
      }
    },
    {
      "cell_type": "code",
      "source": [
        "# Enter your code here. Read input from STDIN. Print output to STDOUT\n",
        "\n",
        "from collections import Counter\n",
        "\n",
        "n = int(input())\n",
        "\n",
        "strings = []\n",
        "\n",
        "for _ in range(n): strings.append(input())\n",
        "\n",
        "strings = Counter(strings)\n",
        "\n",
        "print(len(strings))\n",
        "\n",
        "for elem in strings: print(strings[elem], end=\" \")"
      ],
      "metadata": {
        "id": "Uf5NoA4QNYKQ"
      },
      "execution_count": null,
      "outputs": []
    },
    {
      "cell_type": "markdown",
      "source": [
        "Company Logo"
      ],
      "metadata": {
        "id": "jkoQ3lrpOJXQ"
      }
    },
    {
      "cell_type": "code",
      "source": [
        "#!/bin/python3\n",
        "\n",
        "import math\n",
        "import os\n",
        "import random\n",
        "import re\n",
        "import sys\n",
        "\n",
        "from collections import Counter\n",
        "\n",
        "if __name__ == '__main__':\n",
        "    s = input()\n",
        "    letters = Counter(sorted(list(s)))\n",
        "    \n",
        "    for i, elem in enumerate(letters.most_common()):\n",
        "        if i == 3: break\n",
        "        print(elem[0], elem[1])"
      ],
      "metadata": {
        "id": "BfbdXcHnOJtm"
      },
      "execution_count": null,
      "outputs": []
    },
    {
      "cell_type": "markdown",
      "source": [
        "Piling Up!"
      ],
      "metadata": {
        "id": "bcOKLIZoBaMD"
      }
    },
    {
      "cell_type": "code",
      "source": [
        "from collections import deque\n",
        "\n",
        "n = int(input())\n",
        "\n",
        "for _ in range(n):\n",
        "    size = int(input())\n",
        "    cubes = deque(map(int, input().split(\" \")))\n",
        "    if(cubes[0] <= cubes[-1]):\n",
        "        max = cubes.pop()\n",
        "    else:\n",
        "        max = cubes.popleft()\n",
        "    while cubes:\n",
        "        if(cubes[0]<=max and cubes[-1]<=max):\n",
        "            if(cubes[0]>=cubes[-1]):\n",
        "                max = cubes.popleft()\n",
        "            else:\n",
        "                max = cubes.pop()\n",
        "        elif(cubes[0]<=max):\n",
        "            max = cubes.popleft()\n",
        "        elif(cubes[-1]<=max):\n",
        "            max = cubes.pop()\n",
        "        else:\n",
        "            print(\"No\")\n",
        "            break\n",
        "            \n",
        "    if not cubes: print(\"Yes\")"
      ],
      "metadata": {
        "id": "hjxe6NILAy6X"
      },
      "execution_count": null,
      "outputs": []
    },
    {
      "cell_type": "markdown",
      "source": [
        "# Date and Time"
      ],
      "metadata": {
        "id": "0LPi1nzyBv9g"
      }
    },
    {
      "cell_type": "markdown",
      "source": [
        "Calendar Module"
      ],
      "metadata": {
        "id": "cDOLqJvmB2PQ"
      }
    },
    {
      "cell_type": "code",
      "source": [
        "# Enter your code here. Read input from STDIN. Print output to STDOUT\n",
        "\n",
        "import calendar\n",
        "\n",
        "m, d, y = map(int, input().strip().split())\n",
        "\n",
        "print(calendar.day_name[calendar.weekday(y, m, d)].upper())"
      ],
      "metadata": {
        "id": "kfMPdPaMB1So"
      },
      "execution_count": null,
      "outputs": []
    },
    {
      "cell_type": "markdown",
      "source": [
        "Time Delta"
      ],
      "metadata": {
        "id": "PwoEEWQ7_W2s"
      }
    },
    {
      "cell_type": "code",
      "source": [
        "#!/bin/python3\n",
        "\n",
        "import math\n",
        "import os\n",
        "import random\n",
        "import re\n",
        "import sys\n",
        "\n",
        "from datetime import datetime\n",
        "\n",
        "# Complete the time_delta function below.\n",
        "def time_delta(t1, t2):\n",
        "    t1 = datetime.strptime(t1, \"%a %d %b %Y %H:%M:%S %z\")\n",
        "    t2 = datetime.strptime(t2, \"%a %d %b %Y %H:%M:%S %z\")\n",
        "    return str(abs(int((t1-t2).total_seconds())))\n",
        "\n",
        "if __name__ == '__main__':\n",
        "    fptr = open(os.environ['OUTPUT_PATH'], 'w')\n",
        "\n",
        "    t = int(input())\n",
        "\n",
        "    for t_itr in range(t):\n",
        "        t1 = input()\n",
        "\n",
        "        t2 = input()\n",
        "\n",
        "        delta = time_delta(t1, t2)\n",
        "\n",
        "        fptr.write(delta + '\\n')\n",
        "\n",
        "    fptr.close()"
      ],
      "metadata": {
        "id": "e-uowd_S_b50"
      },
      "execution_count": null,
      "outputs": []
    },
    {
      "cell_type": "markdown",
      "source": [
        "# Errors and Exceptions"
      ],
      "metadata": {
        "id": "MSM2sGuBQzuL"
      }
    },
    {
      "cell_type": "markdown",
      "source": [
        "Exceptions"
      ],
      "metadata": {
        "id": "SR_YS1s1Q2qS"
      }
    },
    {
      "cell_type": "code",
      "source": [
        "# Enter your code here. Read input from STDIN. Print output to STDOUT\n",
        "\n",
        "for _ in range(int(input())):\n",
        "    try:\n",
        "        a, b = map(int, input().split())\n",
        "        print(a//b)\n",
        "    except ZeroDivisionError as e:\n",
        "        print(\"Error Code:\",e);\n",
        "    except ValueError as v:\n",
        "        print(\"Error Code:\",v);"
      ],
      "metadata": {
        "id": "UL7Pzxe1Q17P"
      },
      "execution_count": null,
      "outputs": []
    },
    {
      "cell_type": "markdown",
      "source": [
        "Incorrect Regex"
      ],
      "metadata": {
        "id": "roh7Vo6dRdWg"
      }
    },
    {
      "cell_type": "code",
      "source": [
        "# Enter your code here. Read input from STDIN. Print output to STDOUT\n",
        "\n",
        "import re\n",
        "\n",
        "for _ in range(int(input())):\n",
        "    try:\n",
        "        re.compile(input())\n",
        "        print(True)\n",
        "    except re.error:\n",
        "        print(False)"
      ],
      "metadata": {
        "id": "vXNxPCmARe3l"
      },
      "execution_count": null,
      "outputs": []
    },
    {
      "cell_type": "markdown",
      "source": [
        "# Classes"
      ],
      "metadata": {
        "id": "jzkVBpCRRwo4"
      }
    },
    {
      "cell_type": "markdown",
      "source": [
        "Classes: Dealing with Complex Numbers"
      ],
      "metadata": {
        "id": "tlE9Iw1_Rywi"
      }
    },
    {
      "cell_type": "code",
      "source": [
        "import math\n",
        "\n",
        "class Complex(object):\n",
        "    def __init__(self, real, imaginary):\n",
        "        self.real = real\n",
        "        self.imaginary = imaginary\n",
        "        \n",
        "    def __add__(self, no):\n",
        "        return Complex(self.real+no.real, self.imaginary+no.imaginary)\n",
        "    \n",
        "    def __sub__(self, no):\n",
        "        return Complex(self.real-no.real, self.imaginary-no.imaginary)\n",
        "        \n",
        "    def __mul__(self, no):\n",
        "        return Complex(self.real*no.real-self.imaginary*no.imaginary, self.real*no.imaginary+no.real*self.imaginary)\n",
        "\n",
        "    def __truediv__(self, no):\n",
        "        conj = Complex(no.real, (-no.imaginary))\n",
        "        num = self*conj\n",
        "        den = no*conj\n",
        "        return Complex((num.real/den.real), (num.imaginary/den.real))\n",
        "\n",
        "    def mod(self):\n",
        "        return Complex(math.sqrt(self.real**2+self.imaginary**2), 0)\n",
        "\n",
        "    def __str__(self):\n",
        "        if self.imaginary == 0:\n",
        "            result = \"%.2f+0.00i\" % (self.real)\n",
        "        elif self.real == 0:\n",
        "            if self.imaginary >= 0:\n",
        "                result = \"0.00+%.2fi\" % (self.imaginary)\n",
        "            else:\n",
        "                result = \"0.00-%.2fi\" % (abs(self.imaginary))\n",
        "        elif self.imaginary > 0:\n",
        "            result = \"%.2f+%.2fi\" % (self.real, self.imaginary)\n",
        "        else:\n",
        "            result = \"%.2f-%.2fi\" % (self.real, abs(self.imaginary))\n",
        "        return result\n",
        "\n",
        "if __name__ == '__main__':\n",
        "    c = map(float, input().split())\n",
        "    d = map(float, input().split())\n",
        "    x = Complex(*c)\n",
        "    y = Complex(*d)\n",
        "    print(*map(str, [x+y, x-y, x*y, x/y, x.mod(), y.mod()]), sep='\\n')"
      ],
      "metadata": {
        "id": "rPvHLHkhRxh7"
      },
      "execution_count": null,
      "outputs": []
    },
    {
      "cell_type": "markdown",
      "source": [
        "Class 2 - Find the Torsional Angle"
      ],
      "metadata": {
        "id": "-ZIQi5nnVdro"
      }
    },
    {
      "cell_type": "code",
      "source": [
        "import math\n",
        "\n",
        "class Points(object):\n",
        "    def __init__(self, x, y, z):\n",
        "        self.x = x\n",
        "        self.y = y\n",
        "        self.z = z\n",
        "        \n",
        "    def __sub__(self, no):\n",
        "        return Points(self.x-no.x, self.y-no.y, self.z-no.z)\n",
        "        \n",
        "    def dot(self, no):\n",
        "        return self.x*no.x+self.y*no.y+self.z*no.z\n",
        "\n",
        "    def cross(self, no):\n",
        "        return Points(self.y*no.z-self.z*no.y, self.z*no.x-self.x*no.z, self.x*no.y-self.y*no.x)\n",
        "        \n",
        "    def absolute(self):\n",
        "        return pow((self.x ** 2 + self.y ** 2 + self.z ** 2), 0.5)\n",
        "\n",
        "if __name__ == '__main__':\n",
        "    points = list()\n",
        "    for i in range(4):\n",
        "        a = list(map(float, input().split()))\n",
        "        points.append(a)\n",
        "\n",
        "    a, b, c, d = Points(*points[0]), Points(*points[1]), Points(*points[2]), Points(*points[3])\n",
        "    x = (b - a).cross(c - b)\n",
        "    y = (c - b).cross(d - c)\n",
        "    angle = math.acos(x.dot(y) / (x.absolute() * y.absolute()))\n",
        "\n",
        "    print(\"%.2f\" % math.degrees(angle))"
      ],
      "metadata": {
        "id": "MJlk4ZoPVYdt"
      },
      "execution_count": null,
      "outputs": []
    },
    {
      "cell_type": "markdown",
      "source": [
        "# Built-Ins"
      ],
      "metadata": {
        "id": "0XM5At8-XioA"
      }
    },
    {
      "cell_type": "markdown",
      "source": [
        "Zipped!"
      ],
      "metadata": {
        "id": "UxiKKCK9Xmal"
      }
    },
    {
      "cell_type": "code",
      "source": [
        "# Enter your code here. Read input from STDIN. Print output to STDOUT\n",
        "\n",
        "subjects, students = map(int, input().split())\n",
        "\n",
        "lista = list()\n",
        "\n",
        "for _ in range(students):\n",
        "    student = map(float, input().split())\n",
        "    lista.append(student)\n",
        "\n",
        "for i in zip(*lista):\n",
        "    print( sum(i)/len(i) ) "
      ],
      "metadata": {
        "id": "yvXbjNfuXlaz"
      },
      "execution_count": null,
      "outputs": []
    },
    {
      "cell_type": "markdown",
      "source": [
        "Input()"
      ],
      "metadata": {
        "id": "TY9p_BkEXs1p"
      }
    },
    {
      "cell_type": "code",
      "source": [
        "# Enter your code here. Read input from STDIN. Print output to STDOUT\n",
        "\n",
        "x, k = map(int,input().split())\n",
        "\n",
        "print(eval(input()) == k)"
      ],
      "metadata": {
        "id": "F9c9MMvbXuIK"
      },
      "execution_count": null,
      "outputs": []
    },
    {
      "cell_type": "markdown",
      "source": [
        "Python Evaluation"
      ],
      "metadata": {
        "id": "pnNbOtznXvsI"
      }
    },
    {
      "cell_type": "code",
      "source": [
        "# Enter your code here. Read input from STDIN. Print output to STDOUT\n",
        "eval(input())"
      ],
      "metadata": {
        "id": "wP61saFRXxOV"
      },
      "execution_count": null,
      "outputs": []
    },
    {
      "cell_type": "markdown",
      "source": [
        "Any or All"
      ],
      "metadata": {
        "id": "SCqSgVrknksO"
      }
    },
    {
      "cell_type": "code",
      "source": [
        "# Enter your code here. Read input from STDIN. Print output to STDOUT\n",
        "n = int(input())\n",
        "lista = list(map(int, input().split(\" \")))\n",
        "print(all(x > 0 for x in lista) and any(str(x) == str(x)[::-1] for x in lista))"
      ],
      "metadata": {
        "id": "ylZ-x8Elnmex"
      },
      "execution_count": null,
      "outputs": []
    },
    {
      "cell_type": "markdown",
      "source": [
        "ginortS"
      ],
      "metadata": {
        "id": "xRQvR_WOnoAX"
      }
    },
    {
      "cell_type": "code",
      "source": [
        "# Enter your code here. Read input from STDIN. Print output to STDOUT\n",
        "\n",
        "inp = input()\n",
        "\n",
        "alpha = \"\".join(sorted([c for c in inp if c.isalpha() and c.islower()]))\n",
        "ALPHA = \"\".join(sorted([c for c in inp if c.isalpha() and c.isupper()]))\n",
        "odd = \"\".join(sorted([c for c in inp if c.isnumeric() and int(c)%2!=0]))\n",
        "even = \"\".join(sorted([c for c in inp if c.isnumeric() and int(c)%2==0]))\n",
        "print(alpha+ALPHA+odd+even)"
      ],
      "metadata": {
        "id": "H-7npgwzd9hX"
      },
      "execution_count": null,
      "outputs": []
    },
    {
      "cell_type": "markdown",
      "source": [
        "# Python Functionals"
      ],
      "metadata": {
        "id": "WjQLwBwWePmK"
      }
    },
    {
      "cell_type": "markdown",
      "source": [
        "Map and Lambda"
      ],
      "metadata": {
        "id": "Tu4vyKaciFWc"
      }
    },
    {
      "cell_type": "code",
      "source": [
        "cube = lambda x: x**3 # complete the lambda function \n",
        "\n",
        "def fibonacci(n):\n",
        "    # return a list of fibonacci numbers\n",
        "    \n",
        "    lista = []\n",
        "    k = 0\n",
        "    for i in range(n):\n",
        "        if i == 0:\n",
        "            lista.append(i)\n",
        "        elif i == 1:\n",
        "            lista.append(i)\n",
        "        else:\n",
        "            lista.append(lista[k]+lista[k+1])\n",
        "            k += 1\n",
        "            if len(lista) == n:\n",
        "                break\n",
        "    return lista\n",
        "\n",
        "if __name__ == '__main__':\n",
        "    n = int(input())\n",
        "    print(list(map(cube, fibonacci(n))))"
      ],
      "metadata": {
        "id": "AvJGB5RjeQxW"
      },
      "execution_count": null,
      "outputs": []
    },
    {
      "cell_type": "markdown",
      "source": [
        "# Regex and Parsing"
      ],
      "metadata": {
        "id": "D8HUAhL-iavQ"
      }
    },
    {
      "cell_type": "markdown",
      "source": [
        "Re.start() & Re.end()"
      ],
      "metadata": {
        "id": "oFmQG5ZXljme"
      }
    },
    {
      "cell_type": "code",
      "source": [
        "# Enter your code here. Read input from STDIN. Print output to STDOUT\n",
        "\n",
        "import re\n",
        "\n",
        "s = input()\n",
        "k = input()\n",
        "\n",
        "pattern = re.compile(k)\n",
        "match = pattern.search(s)\n",
        "if not match: print('(-1, -1)')\n",
        "\n",
        "while match:\n",
        "    print((match.start(), match.end()-1))\n",
        "    match = pattern.search(s, match.start() + 1)"
      ],
      "metadata": {
        "id": "urK-rU1NieRx"
      },
      "execution_count": null,
      "outputs": []
    },
    {
      "cell_type": "markdown",
      "source": [
        "Re.split()"
      ],
      "metadata": {
        "id": "W1jhMBpcnFlo"
      }
    },
    {
      "cell_type": "code",
      "source": [
        "regex_pattern = r\"[.,]+\"\t# Do not delete 'r'.\n",
        "\n",
        "import re\n",
        "print(\"\\n\".join(re.split(regex_pattern, input())))"
      ],
      "metadata": {
        "id": "W_sffNrYnG5Y"
      },
      "execution_count": null,
      "outputs": []
    },
    {
      "cell_type": "markdown",
      "source": [
        "Validating phone numbers"
      ],
      "metadata": {
        "id": "lGpd3pXgnK1C"
      }
    },
    {
      "cell_type": "code",
      "source": [
        "# Enter your code here. Read input from STDIN. Print output to STDOUT\n",
        "\n",
        "import re\n",
        "\n",
        "regex = re.compile(r'^[789][0-9]{9}$')\n",
        "\n",
        "for _ in range(int(input())):\n",
        "    print('YES' if bool(regex.search(input())) else 'NO')"
      ],
      "metadata": {
        "id": "QTc-o7V-qsL2"
      },
      "execution_count": null,
      "outputs": []
    },
    {
      "cell_type": "markdown",
      "source": [
        "Validating and Parsing Email Adress"
      ],
      "metadata": {
        "id": "ydRhwgX_vEdv"
      }
    },
    {
      "cell_type": "code",
      "source": [
        "# Enter your code here. Read input from STDIN. Print output to STDOUT\n",
        "\n",
        "import re\n",
        "\n",
        "regex = re.compile(r'^[a-zA-Z][\\w\\.-]*@[a-zA-Z]*\\.[a-z]{1,3}$')\n",
        "\n",
        "for _ in range(int(input())):\n",
        "    name, email = map(str, input().split())\n",
        "    if bool(regex.search(email[1:-1])):\n",
        "        print(f'{name} {email}')"
      ],
      "metadata": {
        "id": "MUnk-cvuvIfm"
      },
      "execution_count": null,
      "outputs": []
    },
    {
      "cell_type": "markdown",
      "source": [
        "Re.findall() & Re.finditer()"
      ],
      "metadata": {
        "id": "hYKggqoI3K6M"
      }
    },
    {
      "cell_type": "code",
      "source": [
        "# Enter your code here. Read input from STDIN. Print output to STDOUT\n",
        "\n",
        "import re\n",
        "\n",
        "regex = re.compile(r'(?<=[bcdfghjklmnpqrstvwxyz])[aeiouAEIOU]{2,}(?=[bcdfghjklmnpqrstvwxyz])')\n",
        "\n",
        "finds = regex.findall(input())\n",
        "\n",
        "if len(finds) == 0:\n",
        "    print(-1)\n",
        "else:\n",
        "    for finded in finds:\n",
        "        print(finded)"
      ],
      "metadata": {
        "id": "c4Wc5FXt3PSG"
      },
      "execution_count": null,
      "outputs": []
    },
    {
      "cell_type": "markdown",
      "source": [
        "Hex Color Code"
      ],
      "metadata": {
        "id": "xPWQ_QKH0Ssl"
      }
    },
    {
      "cell_type": "code",
      "source": [
        "# Enter your code here. Read input from STDIN. Print output to STDOUT\n",
        "\n",
        "import re\n",
        "\n",
        "regex = re.compile(r'#[0-9a-fA-F]{3,6}')\n",
        "css = False\n",
        "\n",
        "for _ in range(int(input())):\n",
        "    string = input()\n",
        "    if '{' in string:\n",
        "        css = True\n",
        "    elif '}' in string:\n",
        "        css = False\n",
        "    elif css:\n",
        "        for finded in regex.findall(string):\n",
        "            print(finded)"
      ],
      "metadata": {
        "id": "530w-g2_0Uor"
      },
      "execution_count": null,
      "outputs": []
    },
    {
      "cell_type": "markdown",
      "source": [
        "Group(), Groups() & Groupdict()"
      ],
      "metadata": {
        "id": "uXQCvF7u0WgW"
      }
    },
    {
      "cell_type": "code",
      "source": [
        "# Enter your code here. Read input from STDIN. Print output to STDOUT\n",
        "\n",
        "import re\n",
        "\n",
        "regex = re.compile(r'([a-zA-Z0-9])\\1')\n",
        "\n",
        "m = regex.search(input())\n",
        "\n",
        "print(m.group(1) if m else -1)"
      ],
      "metadata": {
        "id": "TTFUIYAZJ7O1"
      },
      "execution_count": null,
      "outputs": []
    },
    {
      "cell_type": "markdown",
      "source": [
        "Regex Substitution"
      ],
      "metadata": {
        "id": "r3Md1URmO1Uz"
      }
    },
    {
      "cell_type": "code",
      "source": [
        "# Enter your code here. Read input from STDIN. Print output to STDOUT\n",
        "\n",
        "import re\n",
        "\n",
        "for _ in range(int(input())):\n",
        "    stringa = input()\n",
        "    stringa = re.sub(\"(?<= )([&]{2})(?= )\", \"and\", stringa)\n",
        "    stringa = re.sub(\"(?<= )[|]{2}(?= )\", \"or\", stringa)\n",
        "    print(stringa)"
      ],
      "metadata": {
        "id": "3qPLH8SyO20m"
      },
      "execution_count": null,
      "outputs": []
    },
    {
      "cell_type": "markdown",
      "source": [
        "Validating Roman Numerals"
      ],
      "metadata": {
        "id": "80nBG2hRb0Ju"
      }
    },
    {
      "cell_type": "code",
      "source": [
        "regex_pattern = r\"^M{0,3}(C[MD]|D?C{0,3})(X[CL]|L?X{0,3})(I[VX]|V?I{0,3})$\"   # Do not delete 'r'.\n",
        "\n",
        "import re\n",
        "print(str(bool(re.match(regex_pattern, input()))))"
      ],
      "metadata": {
        "id": "C2pK9C16cAeM"
      },
      "execution_count": null,
      "outputs": []
    },
    {
      "cell_type": "markdown",
      "source": [
        "Detect HTML Tags, Attributes and Attribute Values"
      ],
      "metadata": {
        "id": "1HiZ1I0bVj68"
      }
    },
    {
      "cell_type": "code",
      "source": [
        "# Enter your code here. Read input from STDIN. Print output to STDOUT\n",
        "\n",
        "from html.parser import HTMLParser\n",
        "\n",
        "\n",
        "class Parser(HTMLParser):\n",
        "    def handle_starttag(self, tag, attrs):\n",
        "        print(tag)\n",
        "        lista = []\n",
        "        for attr in attrs:\n",
        "            print('-> {} > {}'.format(*attr))\n",
        "\n",
        "\n",
        "code = '\\n'.join([input() for _ in range(int(input()))])\n",
        "parser = Parser()\n",
        "parser.feed(code)\n",
        "parser.close()\n"
      ],
      "metadata": {
        "id": "M_6tbqaAVjBE"
      },
      "execution_count": null,
      "outputs": []
    },
    {
      "cell_type": "markdown",
      "source": [
        "HTML Parser - Part 1"
      ],
      "metadata": {
        "id": "_9XSELiLWrSJ"
      }
    },
    {
      "cell_type": "code",
      "source": [
        "# Enter your code here. Read input from STDIN. Print output to STDOUT\n",
        "\n",
        "from html.parser import HTMLParser\n",
        "\n",
        "\n",
        "class Parser(HTMLParser):\n",
        "    \n",
        "    def handle_starttag(self, tag, attrs):\n",
        "        \n",
        "        print (\"Start :\", tag)\n",
        "        \n",
        "        for attr in attrs:\n",
        "            print (\"->\", attr[0], \">\", attr[1])\n",
        "            \n",
        "    def handle_startendtag(self, tag, attrs):\n",
        "        \n",
        "        print(\"Empty :\", tag)\n",
        "        \n",
        "        for attr in attrs:\n",
        "            print(\"->\", attr[0], \">\", attr[1])\n",
        "     \n",
        "    def handle_endtag(self, tag):\n",
        "        \n",
        "        print(\"End   :\", tag)\n",
        "\n",
        "parser = Parser()\n",
        "for _ in range(int(input())):\n",
        "    parser.feed(input())"
      ],
      "metadata": {
        "id": "TI99jsFdWs3v"
      },
      "execution_count": null,
      "outputs": []
    },
    {
      "cell_type": "markdown",
      "source": [
        "HTML Parser - Part 2"
      ],
      "metadata": {
        "id": "qDLuoXkpXseL"
      }
    },
    {
      "cell_type": "code",
      "source": [
        "from html.parser import HTMLParser\n",
        "\n",
        "class MyHTMLParser(HTMLParser):\n",
        "    \n",
        "    def handle_comment(self, comment):\n",
        "        \n",
        "        if \"\\n\" in comment:\n",
        "            print(\">>> Multi-line Comment\")\n",
        "            print(comment)\n",
        "        else:\n",
        "            print(\">>> Single-line Comment\")\n",
        "            print(comment)\n",
        "            \n",
        "    def handle_data(self, data):\n",
        "        \n",
        "        if data != \"\\n\":\n",
        "            print(\">>> Data\")\n",
        "            print(data)\n",
        "  \n",
        "  \n",
        "\n",
        "html = \"\"       \n",
        "for i in range(int(input())):\n",
        "    html += input().rstrip()\n",
        "    html += '\\n'\n",
        "    \n",
        "parser = MyHTMLParser()\n",
        "parser.feed(html)\n",
        "parser.close()"
      ],
      "metadata": {
        "id": "TLAWJ_PIXrdk"
      },
      "execution_count": null,
      "outputs": []
    },
    {
      "cell_type": "markdown",
      "source": [
        "Validating UID"
      ],
      "metadata": {
        "id": "tC6_1tFdb6OP"
      }
    },
    {
      "cell_type": "code",
      "source": [
        "# Enter your code here. Read input from STDIN. Print output to STDOUT\n",
        "\n",
        "import re\n",
        "\n",
        "re1 = re.compile(r\"[A-Z]\")\n",
        "re2 = re.compile(r\"[0-9]\")\n",
        "re3 = re.compile(r\"[a-z]|[A-Z]|[0-9]\")\n",
        "\n",
        "for _ in range(int(input())):\n",
        "    uuid = input()\n",
        "    \n",
        "    first = len(re1.findall(uuid)) >= 2\n",
        "    second = len(re2.findall(uuid)) >= 3\n",
        "    third = len(re3.findall(uuid)) == len(uuid)\n",
        "    fourth = len(uuid) == len(set(uuid))\n",
        "    fifth = len(uuid) == 10\n",
        "    print('Valid' if all([first, second, third, fourth, fifth]) else 'Invalid')"
      ],
      "metadata": {
        "id": "aVpAoAoJb7Yx"
      },
      "execution_count": null,
      "outputs": []
    },
    {
      "cell_type": "markdown",
      "source": [
        "Validating Postal Codes"
      ],
      "metadata": {
        "id": "vFlqjPc0dRdF"
      }
    },
    {
      "cell_type": "code",
      "source": [
        "regex_integer_in_range = r\"^[1-9][0-9]{5}$\"\t# Do not delete 'r'.\n",
        "regex_alternating_repetitive_digit_pair = r\"([0-9])(?=[0-9]\\1)\"\t# Do not delete 'r'.\n",
        "\n",
        "\n",
        "import re\n",
        "P = input()\n",
        "\n",
        "print (bool(re.match(regex_integer_in_range, P)) \n",
        "and len(re.findall(regex_alternating_repetitive_digit_pair, P)) < 2)"
      ],
      "metadata": {
        "id": "xt-BCSwzdSue"
      },
      "execution_count": null,
      "outputs": []
    },
    {
      "cell_type": "markdown",
      "source": [
        "Detect Floating Point Number"
      ],
      "metadata": {
        "id": "DtwB9lsyifXZ"
      }
    },
    {
      "cell_type": "code",
      "source": [
        "# Enter your code here. Read input from STDIN. Print output to STDOUT\n",
        "\n",
        "import re\n",
        "\n",
        "regex = re.compile(r'^([-\\+])?[0-9]*\\.[0-9]+$')\n",
        "\n",
        "for _ in range(int(input())):\n",
        "    print(regex.search(input()) is not None)"
      ],
      "metadata": {
        "id": "izJRJ6Rzlq99"
      },
      "execution_count": null,
      "outputs": []
    },
    {
      "cell_type": "markdown",
      "source": [
        "Validating Credit Card Numbers\n",
        "- Looked from the solutions"
      ],
      "metadata": {
        "id": "m7QSc-F1e4ld"
      }
    },
    {
      "cell_type": "code",
      "source": [
        "# Enter your code here. Read input from STDIN. Print output to STDOUT\n",
        "\n",
        "import re\n",
        "\n",
        "regex = re.compile(\n",
        "    r\"^\"\n",
        "    r\"(?!.*([0-9])(-?\\1){3})\"\n",
        "    r\"[456]\"\n",
        "    r\"[0-9]{3}\"\n",
        "    r\"(?:-?[0-9]{4}){3}\"\n",
        "    r\"$\")\n",
        "    \n",
        "for _ in range(int(input())):\n",
        "    print(\"Valid\" if regex.search(input()) else \"Invalid\")"
      ],
      "metadata": {
        "id": "zxzvlLdWe8gd"
      },
      "execution_count": null,
      "outputs": []
    },
    {
      "cell_type": "markdown",
      "source": [
        "Matrix Script"
      ],
      "metadata": {
        "id": "PvhipK8yjnGL"
      }
    },
    {
      "cell_type": "code",
      "source": [
        "#!/bin/python3\n",
        "\n",
        "import math\n",
        "import os\n",
        "import random\n",
        "import re\n",
        "import sys\n",
        "\n",
        "\n",
        "\n",
        "\n",
        "first_multiple_input = input().rstrip().split()\n",
        "\n",
        "n = int(first_multiple_input[0])\n",
        "\n",
        "m = int(first_multiple_input[1])\n",
        "\n",
        "matrix = []\n",
        "\n",
        "for _ in range(n):\n",
        "    matrix_item = input()\n",
        "    matrix.append(matrix_item)\n",
        "\n",
        "mat = \"\".join([matrix[j][i] for i in range(m) for j in range(n)])\n",
        "regex = re.compile(r'(?<=[a-zA-Z0-9])[^a-zA-Z0-9]+(?=[a-zA-Z0-9])')\n",
        "print(regex.sub(\" \", mat))"
      ],
      "metadata": {
        "id": "PIm23cCVjngZ"
      },
      "execution_count": null,
      "outputs": []
    },
    {
      "cell_type": "markdown",
      "source": [
        "# XML"
      ],
      "metadata": {
        "id": "8u3HREZrmED5"
      }
    },
    {
      "cell_type": "markdown",
      "source": [
        "XML 1 - Find the Score"
      ],
      "metadata": {
        "id": "2zHGW5XvmEcj"
      }
    },
    {
      "cell_type": "code",
      "source": [
        "import sys\n",
        "import xml.etree.ElementTree as etree\n",
        "\n",
        "def get_attr_number(node):\n",
        "    # your code goes here\n",
        "    score = len(node.attrib)\n",
        "    for n in node:\n",
        "        if etree.ElementTree(etree.fromstring(etree.tostring(n))):\n",
        "            child = etree.ElementTree(etree.fromstring(etree.tostring(n)))\n",
        "            child_root = child.getroot()\n",
        "            score += len(child_root.attrib)\n",
        "            for child in child_root:\n",
        "                score += len(child.attrib)\n",
        "    return score\n",
        "\n",
        "if __name__ == '__main__':\n",
        "    sys.stdin.readline()\n",
        "    xml = sys.stdin.read()\n",
        "    tree = etree.ElementTree(etree.fromstring(xml))\n",
        "    root = tree.getroot()\n",
        "    print(get_attr_number(root))"
      ],
      "metadata": {
        "id": "ZYd8uQf-mGiY"
      },
      "execution_count": null,
      "outputs": []
    },
    {
      "cell_type": "markdown",
      "source": [
        "XML2 - Find the Maximum Depth"
      ],
      "metadata": {
        "id": "B_2nKwlNmJjn"
      }
    },
    {
      "cell_type": "code",
      "source": [
        "import xml.etree.ElementTree as etree\n",
        "\n",
        "maxdepth = 0\n",
        "def depth(elem, level):\n",
        "    global maxdepth\n",
        "    # your code goes here\n",
        "    if (level == maxdepth):\n",
        "        maxdepth += 1\n",
        "    for child in elem:\n",
        "        depth(child, level + 1)\n",
        "\n",
        "if __name__ == '__main__':"
      ],
      "metadata": {
        "id": "WVEieDX4mKLm"
      },
      "execution_count": null,
      "outputs": []
    },
    {
      "cell_type": "markdown",
      "source": [
        "# Closures and Decorators"
      ],
      "metadata": {
        "id": "XGSxX3gEts7W"
      }
    },
    {
      "cell_type": "markdown",
      "source": [
        "Standardize Mobile Number Using Decorators"
      ],
      "metadata": {
        "id": "TyuKCJVctxMk"
      }
    },
    {
      "cell_type": "code",
      "source": [
        "def wrapper(f):\n",
        "    def fun(l):\n",
        "        # complete the function\n",
        "        f([\"+91 \"+c[-10:-5]+\" \"+c[-5:] for c in l])\n",
        "    return fun\n",
        "\n",
        "@wrapper\n",
        "def sort_phone(l):\n",
        "    print(*sorted(l), sep='\\n')\n",
        "\n",
        "if __name__ == '__main__':\n",
        "    l = [input() for _ in range(int(input()))]\n",
        "    sort_phone(l)"
      ],
      "metadata": {
        "id": "4d2-NUdutvQO"
      },
      "execution_count": null,
      "outputs": []
    },
    {
      "cell_type": "markdown",
      "source": [
        "Decorators 2 - Name Directory\n",
        "\n",
        "- Looked from the solution."
      ],
      "metadata": {
        "id": "nruTNbrSt2sv"
      }
    },
    {
      "cell_type": "code",
      "source": [
        "import operator\n",
        "\n",
        "def person_lister(f):\n",
        "    def inner(people):\n",
        "        # complete the function\n",
        "        return [f(p) for p in sorted(people, key = lambda x: (int(x[2])))]\n",
        "    return inner\n",
        "\n",
        "@person_lister\n",
        "def name_format(person):\n",
        "    return (\"Mr. \" if person[3] == \"M\" else \"Ms. \") + person[0] + \" \" + person[1]\n",
        "\n",
        "if __name__ == '__main__':\n",
        "    people = [input().split() for i in range(int(input()))]\n",
        "    print(*name_format(people), sep='\\n')"
      ],
      "metadata": {
        "id": "uP1E9qcLt3FA"
      },
      "execution_count": null,
      "outputs": []
    },
    {
      "cell_type": "markdown",
      "source": [
        "# Numpy"
      ],
      "metadata": {
        "id": "g5rF8juu2O-x"
      }
    },
    {
      "cell_type": "markdown",
      "source": [
        "Arrays"
      ],
      "metadata": {
        "id": "CcmlzXUG2R7r"
      }
    },
    {
      "cell_type": "code",
      "source": [
        "import numpy\n",
        "\n",
        "def arrays(arr):\n",
        "    # complete this function\n",
        "    # use numpy.array\n",
        "    arr = numpy.array(arr, float)\n",
        "    return numpy.flip(arr)\n",
        "\n",
        "arr = input().strip().split(' ')"
      ],
      "metadata": {
        "id": "QJDO9S1c2RBo"
      },
      "execution_count": null,
      "outputs": []
    },
    {
      "cell_type": "markdown",
      "source": [
        "Transpose and Flatten"
      ],
      "metadata": {
        "id": "2m458uV84zoK"
      }
    },
    {
      "cell_type": "code",
      "source": [
        "import numpy as np\n",
        "\n",
        "r, c = map(int, input().split())\n",
        "\n",
        "mat = []\n",
        "\n",
        "for _ in range(r):\n",
        "    mat.append(list(map(int, input().split())))\n",
        "\n",
        "mat = np.array(mat)\n",
        "    \n",
        "print(np.transpose(mat), mat.flatten(), sep='\\n')"
      ],
      "metadata": {
        "id": "5V2IrU9M41Ao"
      },
      "execution_count": null,
      "outputs": []
    },
    {
      "cell_type": "markdown",
      "source": [
        "Concatenate"
      ],
      "metadata": {
        "id": "e80D1E4V42Vg"
      }
    },
    {
      "cell_type": "code",
      "source": [
        "import numpy as np\n",
        "\n",
        "n, m, p = map(int, input().split())\n",
        "\n",
        "N = np.array([input().split() for _ in range(n)], int)\n",
        "M = np.array([input().split() for _ in range(m)], int)\n",
        "\n",
        "print(np.concatenate((N, M), axis = 0))"
      ],
      "metadata": {
        "id": "7oY2U2oS6W0C"
      },
      "execution_count": null,
      "outputs": []
    },
    {
      "cell_type": "markdown",
      "source": [
        "Mix and Max"
      ],
      "metadata": {
        "id": "_v50A3en8PCz"
      }
    },
    {
      "cell_type": "code",
      "source": [
        "import numpy as np\n",
        "\n",
        "n, m = map(int, input().split())\n",
        "\n",
        "N = np.array([input().split() for _ in range(n)], int)\n",
        "\n",
        "print(np.max(np.min(N, axis=1)))"
      ],
      "metadata": {
        "id": "O8dNaTOV8Qr6"
      },
      "execution_count": null,
      "outputs": []
    },
    {
      "cell_type": "markdown",
      "source": [
        "Zeros and Ones"
      ],
      "metadata": {
        "id": "Gle-sFb__H6W"
      }
    },
    {
      "cell_type": "code",
      "source": [
        "import numpy as np\n",
        "\n",
        "tupla = tuple(map(int, input().split()))\n",
        "\n",
        "print(np.zeros(tupla, dtype = np.int))\n",
        "print(np.ones(tupla, dtype = np.int))"
      ],
      "metadata": {
        "id": "H8mqqzhE_I86"
      },
      "execution_count": null,
      "outputs": []
    },
    {
      "cell_type": "markdown",
      "source": [
        "Eye and Identity"
      ],
      "metadata": {
        "id": "GuSHrVbNAARm"
      }
    },
    {
      "cell_type": "code",
      "source": [
        "import numpy as np\n",
        "np.set_printoptions(legacy='1.13')\n",
        "\n",
        "r, c = map(int, input().split())\n",
        "\n",
        "print(np.eye(r, c))"
      ],
      "metadata": {
        "id": "zNZ4VbjzABsP"
      },
      "execution_count": null,
      "outputs": []
    },
    {
      "cell_type": "markdown",
      "source": [
        "Array Mathematics"
      ],
      "metadata": {
        "id": "Cm3v_OoDBbCG"
      }
    },
    {
      "cell_type": "code",
      "source": [
        "import numpy as np\n",
        "\n",
        "n, m = map(int, input().split())\n",
        "\n",
        "A = np.array([list(map(int, input().split())) for _ in range(n)])\n",
        "B = np.array([list(map(int, input().split())) for n_ in range(n)])\n",
        "\n",
        "print(A+B)\n",
        "print(A-B)\n",
        "print(A*B)\n",
        "print(A//B)\n",
        "print(A%B)\n",
        "print(A**B)"
      ],
      "metadata": {
        "id": "s97FOdU7BcsP"
      },
      "execution_count": null,
      "outputs": []
    },
    {
      "cell_type": "markdown",
      "source": [
        "Floor, Ceil and Rint"
      ],
      "metadata": {
        "id": "CEIjqz5uDLYc"
      }
    },
    {
      "cell_type": "code",
      "source": [
        "import numpy as np\n",
        "\n",
        "np.set_printoptions(legacy='1.13')\n",
        "\n",
        "arr = np.array(input().split(),float)\n",
        "\n",
        "print(np.floor(arr))\n",
        "print(np.ceil(arr))\n",
        "print(np.rint(arr))"
      ],
      "metadata": {
        "id": "euxBubarDM46"
      },
      "execution_count": null,
      "outputs": []
    },
    {
      "cell_type": "markdown",
      "source": [
        "Sum and Prod"
      ],
      "metadata": {
        "id": "CzFrzNGQEBKk"
      }
    },
    {
      "cell_type": "code",
      "source": [
        "import numpy as np\n",
        "\n",
        "n, m = map(int, input().split())\n",
        "\n",
        "mat = np.array([list(map(int, input().split())) for n in range(n)])\n",
        "\n",
        "print(np.prod(np.sum(mat, axis=0)))"
      ],
      "metadata": {
        "id": "wyabOfRwECUc"
      },
      "execution_count": null,
      "outputs": []
    },
    {
      "cell_type": "markdown",
      "source": [
        "Shape and Reshape"
      ],
      "metadata": {
        "id": "n42JfiGEEiUR"
      }
    },
    {
      "cell_type": "code",
      "source": [
        "import numpy as np\n",
        "\n",
        "arr = np.array(input().split(), int)\n",
        "\n",
        "print(np.reshape(arr, (3,3)))"
      ],
      "metadata": {
        "id": "P-vyjBMsEjW3"
      },
      "execution_count": null,
      "outputs": []
    },
    {
      "cell_type": "markdown",
      "source": [
        "Mean, Var, and Std"
      ],
      "metadata": {
        "id": "73DyWqeVITGc"
      }
    },
    {
      "cell_type": "code",
      "source": [
        "import numpy as np \n",
        "\n",
        "n,m = map(int, input().split())\n",
        "mat = np.array([list(map(int, input().split())) for _ in range(n)])\n",
        "\n",
        "print(np.mean(mat, axis = 1))\n",
        "print(np.var(mat, axis = 0))\n",
        "print(np.around(np.std(mat), 11))"
      ],
      "metadata": {
        "id": "L0j3UAlcIViI"
      },
      "execution_count": null,
      "outputs": []
    },
    {
      "cell_type": "markdown",
      "source": [
        "Dot and Cross"
      ],
      "metadata": {
        "id": "1jUdxZrUJFA3"
      }
    },
    {
      "cell_type": "code",
      "source": [
        "import numpy as np\n",
        "\n",
        "n = int(input())\n",
        "\n",
        "A = np.array([input().split() for _ in range(n)], int)\n",
        "B = np.array([input().split() for _ in range(n)], int)\n",
        "\n",
        "print(np.dot(A, B))"
      ],
      "metadata": {
        "id": "XwTpJPsLJF6O"
      },
      "execution_count": null,
      "outputs": []
    },
    {
      "cell_type": "markdown",
      "source": [
        "Inner and Outer"
      ],
      "metadata": {
        "id": "gDWJFIwNKfF6"
      }
    },
    {
      "cell_type": "code",
      "source": [
        "import numpy as np\n",
        "\n",
        "A = np.array(input().split(), dtype = int)\n",
        "B = np.array(input().split(), dtype = int)\n",
        "\n",
        "print(np.inner(A, B))\n",
        "print(np.outer(A, B))"
      ],
      "metadata": {
        "id": "Ii_SawArKf8-"
      },
      "execution_count": null,
      "outputs": []
    },
    {
      "cell_type": "markdown",
      "source": [
        "Linear Algebra"
      ],
      "metadata": {
        "id": "2znwsB7gKhKJ"
      }
    },
    {
      "cell_type": "code",
      "source": [
        "import numpy as np\n",
        "\n",
        "np.set_printoptions(legacy='1.13')\n",
        "\n",
        "n = int(input())\n",
        "\n",
        "mat = np.array([input().split() for _ in range(n)], float)\n",
        "\n",
        "print(np.linalg.det(mat))"
      ],
      "metadata": {
        "id": "2WacSHS4LZp0"
      },
      "execution_count": null,
      "outputs": []
    },
    {
      "cell_type": "markdown",
      "source": [
        "Polynomials"
      ],
      "metadata": {
        "id": "6vNdi9NrLae_"
      }
    },
    {
      "cell_type": "code",
      "source": [
        "import numpy as np\n",
        "\n",
        "poly = np.array(input().split(), float)\n",
        "x = float(input())\n",
        "\n",
        "print(np.polyval(poly, x))"
      ],
      "metadata": {
        "id": "E0UzKWmWMFyK"
      },
      "execution_count": null,
      "outputs": []
    },
    {
      "cell_type": "markdown",
      "source": [
        "# Algorithms"
      ],
      "metadata": {
        "id": "cSzt4pe81AA-"
      }
    },
    {
      "cell_type": "markdown",
      "source": [
        "Birthday Cake Candles"
      ],
      "metadata": {
        "id": "t-esJIpN1Hgd"
      }
    },
    {
      "cell_type": "code",
      "source": [
        "#!/bin/python3\n",
        "\n",
        "import math\n",
        "import os\n",
        "import random\n",
        "import re\n",
        "import sys\n",
        "\n",
        "#\n",
        "# Complete the 'birthdayCakeCandles' function below.\n",
        "#\n",
        "# The function is expected to return an INTEGER.\n",
        "# The function accepts INTEGER_ARRAY candles as parameter.\n",
        "#\n",
        "\n",
        "def birthdayCakeCandles(candles):\n",
        "    # Write your code here\n",
        "    maxim = 0\n",
        "    count = 1\n",
        "    \n",
        "    for elem in candles:\n",
        "        if elem > maxim:\n",
        "            maxim = elem\n",
        "            count = 1\n",
        "        elif elem == maxim:\n",
        "            count += 1\n",
        "    return count\n",
        "\n",
        "if __name__ == '__main__':\n",
        "    fptr = open(os.environ['OUTPUT_PATH'], 'w')\n",
        "\n",
        "    candles_count = int(input().strip())\n",
        "\n",
        "    candles = list(map(int, input().rstrip().split()))\n",
        "\n",
        "    result = birthdayCakeCandles(candles)\n",
        "\n",
        "    fptr.write(str(result) + '\\n')\n",
        "\n",
        "    fptr.close()\n"
      ],
      "metadata": {
        "id": "wL9IrEgE1DXk"
      },
      "execution_count": null,
      "outputs": []
    },
    {
      "cell_type": "markdown",
      "source": [
        "Number Line Jumps"
      ],
      "metadata": {
        "id": "pqmiv8z56kYf"
      }
    },
    {
      "cell_type": "code",
      "source": [
        "#!/bin/python3\n",
        "\n",
        "import math\n",
        "import os\n",
        "import random\n",
        "import re\n",
        "import sys\n",
        "\n",
        "#\n",
        "# Complete the 'kangaroo' function below.\n",
        "#\n",
        "# The function is expected to return a STRING.\n",
        "# The function accepts following parameters:\n",
        "#  1. INTEGER x1\n",
        "#  2. INTEGER v1\n",
        "#  3. INTEGER x2\n",
        "#  4. INTEGER v2\n",
        "#\n",
        "\n",
        "def kangaroo(x1, v1, x2, v2):\n",
        "    # Write your code here\n",
        "    found = False\n",
        "    while(True):\n",
        "        if x1 == x2:\n",
        "            found = True\n",
        "            break\n",
        "        if (v1 > v2 and x1 > x2) or (v2 > v1 and x2 > x1) or (v2 == v1 and x2 != x1):\n",
        "            break\n",
        "        x1 += v1\n",
        "        x2 += v2\n",
        "    return 'YES' if found else 'NO'\n",
        "\n",
        "if __name__ == '__main__':\n",
        "    fptr = open(os.environ['OUTPUT_PATH'], 'w')\n",
        "\n",
        "    first_multiple_input = input().rstrip().split()\n",
        "\n",
        "    x1 = int(first_multiple_input[0])\n",
        "\n",
        "    v1 = int(first_multiple_input[1])\n",
        "\n",
        "    x2 = int(first_multiple_input[2])\n",
        "\n",
        "    v2 = int(first_multiple_input[3])\n",
        "\n",
        "    result = kangaroo(x1, v1, x2, v2)\n",
        "\n",
        "    fptr.write(result + '\\n')\n",
        "\n",
        "    fptr.close()"
      ],
      "metadata": {
        "id": "p_bxondO6mlJ"
      },
      "execution_count": null,
      "outputs": []
    },
    {
      "cell_type": "markdown",
      "source": [
        "Viral Advertising"
      ],
      "metadata": {
        "id": "Lb30zZd26oO1"
      }
    },
    {
      "cell_type": "code",
      "source": [
        "#!/bin/python3\n",
        "\n",
        "import math\n",
        "import os\n",
        "import random\n",
        "import re\n",
        "import sys\n",
        "\n",
        "#\n",
        "# Complete the 'viralAdvertising' function below.\n",
        "#\n",
        "# The function is expected to return an INTEGER.\n",
        "# The function accepts INTEGER n as parameter.\n",
        "#\n",
        "\n",
        "def viralAdvertising(n):\n",
        "    # Write your code here\n",
        "    people = 5\n",
        "    count = 0\n",
        "    grouth = 3\n",
        "    for _ in range(n):\n",
        "        count += people//2\n",
        "        people = (people//2)*grouth\n",
        "    return count\n",
        "\n",
        "if __name__ == '__main__':\n",
        "    fptr = open(os.environ['OUTPUT_PATH'], 'w')\n",
        "\n",
        "    n = int(input().strip())\n",
        "\n",
        "    result = viralAdvertising(n)\n",
        "\n",
        "    fptr.write(str(result) + '\\n')\n",
        "\n",
        "    fptr.close()"
      ],
      "metadata": {
        "id": "ly3ZFXC58dvp"
      },
      "execution_count": null,
      "outputs": []
    },
    {
      "cell_type": "markdown",
      "source": [
        "Recursive Digit Sum"
      ],
      "metadata": {
        "id": "XYaRyQpA--in"
      }
    },
    {
      "cell_type": "code",
      "source": [
        "#!/bin/python3\n",
        "\n",
        "import math\n",
        "import os\n",
        "import random\n",
        "import re\n",
        "import sys\n",
        "\n",
        "#\n",
        "# Complete the 'superDigit' function below.\n",
        "#\n",
        "# The function is expected to return an INTEGER.\n",
        "# The function accepts following parameters:\n",
        "#  1. STRING n\n",
        "#  2. INTEGER k\n",
        "#\n",
        "\n",
        "def superDigit(n, k):\n",
        "    # Write your code here\n",
        "    p = k * sum([int(num) for num in n])\n",
        "    while p > 10:\n",
        "        p = sum([int(num) for num in str(p)])\n",
        "    return p\n",
        "\n",
        "if __name__ == '__main__':\n",
        "    fptr = open(os.environ['OUTPUT_PATH'], 'w')\n",
        "\n",
        "    first_multiple_input = input().rstrip().split()\n",
        "\n",
        "    n = first_multiple_input[0]\n",
        "\n",
        "    k = int(first_multiple_input[1])\n",
        "\n",
        "    result = superDigit(n, k)\n",
        "\n",
        "    fptr.write(str(result) + '\\n')\n",
        "\n",
        "    fptr.close()"
      ],
      "metadata": {
        "id": "1zH7uMJIQaix"
      },
      "execution_count": null,
      "outputs": []
    },
    {
      "cell_type": "markdown",
      "source": [
        "Insertion Sort - Part 1"
      ],
      "metadata": {
        "id": "Pf5L-z3bl4om"
      }
    },
    {
      "cell_type": "code",
      "source": [
        "#!/bin/python3\n",
        "\n",
        "import math\n",
        "import os\n",
        "import random\n",
        "import re\n",
        "import sys\n",
        "\n",
        "#\n",
        "# Complete the 'insertionSort1' function below.\n",
        "#\n",
        "# The function accepts following parameters:\n",
        "#  1. INTEGER n\n",
        "#  2. INTEGER_ARRAY arr\n",
        "#\n",
        "\n",
        "def insertionSort1(n, arr):\n",
        "    # Write your code here\n",
        "    e = arr[-1]\n",
        "    for i in range(len(arr)-2, -1, -1):\n",
        "        if arr[i] > e:\n",
        "            arr[i+1] = arr[i]\n",
        "            for elem in arr:\n",
        "                print(elem, end=\" \")\n",
        "        else:\n",
        "            arr[i+1] = e\n",
        "            for elem in arr:\n",
        "                print(elem, end=\" \")\n",
        "            break\n",
        "        print()\n",
        "    if arr[0] > e:\n",
        "        arr[0] = e\n",
        "        for elem in arr:\n",
        "            print(elem, end=\" \")\n",
        "\n",
        "if __name__ == '__main__':\n",
        "    n = int(input().strip())\n",
        "\n",
        "    arr = list(map(int, input().rstrip().split()))\n",
        "\n",
        "    insertionSort1(n, arr)"
      ],
      "metadata": {
        "id": "xzZJxeIHl86O"
      },
      "execution_count": null,
      "outputs": []
    },
    {
      "cell_type": "markdown",
      "source": [
        "Insertion Sort - Part 2"
      ],
      "metadata": {
        "id": "r24lnz6ml-KQ"
      }
    },
    {
      "cell_type": "code",
      "source": [
        "#!/bin/python3\n",
        "\n",
        "import math\n",
        "import os\n",
        "import random\n",
        "import re\n",
        "import sys\n",
        "\n",
        "#\n",
        "# Complete the 'insertionSort2' function below.\n",
        "#\n",
        "# The function accepts following parameters:\n",
        "#  1. INTEGER n\n",
        "#  2. INTEGER_ARRAY arr\n",
        "#\n",
        "\n",
        "def insertionSort1(start, arr):\n",
        "    \n",
        "    e = arr[start]\n",
        "\n",
        "    for i in range(start-1, -1, -1):\n",
        "        \n",
        "        if arr[i] > e:\n",
        "            arr[i+1] = arr[i]\n",
        "        else:\n",
        "            arr[i+1] = e\n",
        "            break\n",
        "        \n",
        "    if arr[0] > e:\n",
        "        arr[0] = e\n",
        "\n",
        "\n",
        "def insertionSort2(n, arr):\n",
        "    # Write your code here\n",
        "    for i in range(1, len(arr)):\n",
        "        insertionSort1(i, arr)\n",
        "        for elem in arr:\n",
        "            print(elem, end=\" \")\n",
        "        print()\n",
        "        \n",
        "if __name__ == '__main__':\n",
        "    n = int(input().strip())\n",
        "\n",
        "    arr = list(map(int, input().rstrip().split()))\n",
        "\n",
        "    insertionSort2(n, arr)"
      ],
      "metadata": {
        "id": "e_wDjH3Y1vYR"
      },
      "execution_count": null,
      "outputs": []
    }
  ]
}